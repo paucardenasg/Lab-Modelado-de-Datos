{
 "cells": [
  {
   "cell_type": "markdown",
   "metadata": {},
   "source": [
    "___\n",
    "<img style=\"float: right; margin: 0px 0px 15px 15px;\" src=\"https://miro.medium.com/max/1400/1*QJZ6W-Pck_W7RlIDwUIN9Q.jpeg\" width=\"350px\" height=\"180px\" />\n",
    "\n",
    "\n",
    "# <font color= #8A0829> Laboratorio de Modelado de Datos </font>\n",
    "- <Strong> Paula Daniela Cárdenas Gallardo </Strong>\n",
    "- <Strong> Año </Strong>: 2021\n",
    "- <Strong> Email: </Strong>  <font color=\"blue\"> `p.daniela.cardenas@gmail.com` </font>\n",
    "___\n",
    "\n",
    "<p style=\"text-align:right;\"> Imagen recuperada de: https://miro.medium.com/max/1400/1*QJZ6W-Pck_W7RlIDwUIN9Q.jpeg</p>\n",
    "\n",
    "### <font color= #2E9AFE> Tema: XGBoost - Regresión y Clasificación</font>"
   ]
  },
  {
   "cell_type": "markdown",
   "metadata": {},
   "source": [
    "\n",
    "#### Características\n",
    "- Consiste en un ensamblado **secuencial** de árboles de decisión. Los árboles se agregan secuencialmente con la finalidad de aprender del resultado de árboles anteriores y corregir el error producido por los mismos, hasta que ya no se pueda corregir dicho error.\n",
    "- Utiliza el procesamiento en paralelo, poda de árboles, manejo de valores nulos, regularización para evitar el sobreajuste del modelo \n",
    "\n",
    "#### Aplicaciones\n",
    "Uno de los sectores en los que se aplican este tipo de algoritmos es el financiero.\n",
    "Algunos ejemplos de su aplicación son: segmentación de clientes, detección de fraudes, pronóstico de ventas, autenticación de clientes y análisis de comportamiento de mercados. \n",
    "\n",
    "Un área de interés es identificar clientes a quienes otorgar una tarjeta de crédito, esto es crítico para los bancos, ya que una selección incorrecta de estos clientes podría derivar en un incremento de su cartera vencida.\n",
    "\n",
    "\n",
    "#### Parámetros a optimizar\n",
    "\n",
    "- `Tasa de aprendizaje (eta)`\n",
    "- `Profundidad del árbol`\n",
    "- `Gamma (para podar el árbol)`\n",
    "- `Lambda (regularización)`\n",
    "- `Min child weight`\n",
    "- `scale_pos_weigth`\n",
    "\n",
    "#### Ventajas de XGBoost\n",
    "\n",
    "- Puede manejar grandes bases de datos con muchas variables\n",
    "- Puede manejar datos nulos\n",
    "- Resultados muy precisos\n",
    "- Rápidos de ejecutar\n",
    "\n",
    "#### Desventajas de XGBoost\n",
    "- Puede consumir muchos recursos computacionales, por lo que se recomienda determinar antes cuáles son las variables que aportarán más información al modelo\n",
    "- Se deben ajustar correctamente los parámetros del algoritmo\n",
    "- Es conveniente transformar los datos a que todos sean numéricos"
   ]
  },
  {
   "cell_type": "markdown",
   "metadata": {},
   "source": [
    "## Clasificación\n",
    "\n",
    "### Datos\n",
    "\n",
    "Vamos a utilizar los datos de **IBM Base Samples** para predecir si un cliente va a dejar de usar los servicios de IBM. \n",
    "\n",
    "Los datos se pueden descargar de:\n",
    "https://www.kaggle.com/yeanzc/telco-customer-churn-ibm-dataset\n",
    "\n",
    "Se tienen $7043$ observaciones y $33$ variables\n",
    "\n",
    "- `CustomerID`: ID único que identifica a cada cliente\n",
    "- `Count`: Valor utilizado en informes para sumar el número de clientes en un conjunto determinado\n",
    "- `Country`: Dónde vive el cliente\n",
    "- `State`: Estado donde vive el cliente\n",
    "- `Ciudad`: Ciudad donde vive el cliente\n",
    "- `Zip Code`: Zip code donde vive el cliente\n",
    "- `Lat Long`: La latitud y longitud combinadas de la residencia principal del cliente\n",
    "- `Latitude`: Latitud \n",
    "- `Longitude`: Longitud\n",
    "- `Gender`: Género\n",
    "- `Senior Citizen`: Indica si el cliente es 65 o mayor: Yes, No\n",
    "- `Partner`: Indica si el cliente tiene un socio: Yes, No\n",
    "- `Dependents`: Indica si el cliente tiene algún dependiente: yes, no. (Hijos, padres, abuelos, etc)\n",
    "- `Tenure Months`: Indica la cantidad total de meses que el cliente ha estado en la compañía a finales del cuatrimestre especificado anteriormente\n",
    "- `Phone Service`: Indica si el cliente se suscribe al servicio de teléfono fijo con la compañía: Yes, No\n",
    "- `Multiple Lines`:  Indica si el cliente se suscribe al servicio de varias líneas telefónicas con la compañía: Yes, No\n",
    "- `Internet Service`: Indica si el cliente se suscribe al servicio de internet con la compañía: No, DSL, Fiber Optic, Cable.\n",
    "- `Online Security`: Indica si el cliente se suscribe al servicio adicional de seguridad con la compañía: Yes, No\n",
    "- `Online Backup`: Indica si el cliente se suscribe al servicio adicional de respaldo con la compañía: Yes, No: Yes, No\n",
    "- `Device Protection`: Indica si el cliente se suscribe al plan de protección para el internet: Yes, No\n",
    "- `Tech Support`: Indica si el cliente se suscribe al servicio adicional de soporte ténico con tiempo reducido de espera: Yes, No\n",
    "- `Streaming TV`: Indica si el cliente utiliza su internet para ver programas de televisión en *streaming* de un proveedor tercero: Yes, No.\n",
    "- `Streaming Movies`: Indica si el cliente utiliza su internet para ver películas en *streaming* de un proveedor tercero: Yes, No.\n",
    "- `Contract`: Indica el tipo de contrato actual del cliente: Month-to-Month, One Year, Two Year.\n",
    "- `Paperless Billing`: Indica si el cliente eligió pagar sin factura: Yes, No\n",
    "- `Payment Method`: Indica cómo paga la cuenta el cliente: Bank Withdrawal, Credit Card, Mailed Check\n",
    "- `Monthly Charge`: Indica el cargo total mensual actual del cliente por todos los servicios de la compañía.\n",
    "- `Total Charges`: Indica el cargo total actual del cliente por todos los servicios de la compañía, calculado hasta el final del cuatrimestre especificado anteriormente.\n",
    "- `Churn Label`: Sí $\\rightarrow$ el cliente dejó a la compañía este cuatrimestre. No $\\rightarrow$ el cliente permaneción en la empresa\n",
    "- `Churn Value`: 1 $\\rightarrow$ el cliente dejó a la compañía este cuatrimestre. 0 $\\rightarrow$ el cliente permaneción en la empresa\n",
    "- `Churn Score`: Un valor de $0-100$ que es calculado utilizando la herramienta predictiva *IBM SPSS Modeler*. El modelo incorpora múltiples factores conocidos que causan que se vayan los clientes. Entre más alto sea el valor más probable es que el cliente se vaya.\n",
    "- `CLTV`: Valor de vida del cliente.\n",
    "- `Churn Reason`: La razón específica del cliente por la cual se va de la empresa."
   ]
  },
  {
   "cell_type": "code",
   "execution_count": 2,
   "metadata": {},
   "outputs": [],
   "source": [
    "# Librerías\n",
    "import pandas as pd\n",
    "import numpy as np\n",
    "import xgboost as xgb\n",
    "from sklearn.metrics import confusion_matrix, plot_confusion_matrix, balanced_accuracy_score, roc_auc_score, make_scorer\n",
    "from sklearn.model_selection import train_test_split, GridSearchCV"
   ]
  },
  {
   "cell_type": "code",
   "execution_count": 3,
   "metadata": {},
   "outputs": [],
   "source": [
    "# Importar datos\n",
    "data= pd.read_excel('/Users/Daniela Cardenas/Documents/ITESO/3° Semestre/Laboratorio de Modelado de Datos/Telco_customer_churn.xlsx')"
   ]
  },
  {
   "cell_type": "code",
   "execution_count": 4,
   "metadata": {},
   "outputs": [
    {
     "data": {
      "text/html": [
       "<div>\n",
       "<style scoped>\n",
       "    .dataframe tbody tr th:only-of-type {\n",
       "        vertical-align: middle;\n",
       "    }\n",
       "\n",
       "    .dataframe tbody tr th {\n",
       "        vertical-align: top;\n",
       "    }\n",
       "\n",
       "    .dataframe thead th {\n",
       "        text-align: right;\n",
       "    }\n",
       "</style>\n",
       "<table border=\"1\" class=\"dataframe\">\n",
       "  <thead>\n",
       "    <tr style=\"text-align: right;\">\n",
       "      <th></th>\n",
       "      <th>CustomerID</th>\n",
       "      <th>Count</th>\n",
       "      <th>Country</th>\n",
       "      <th>State</th>\n",
       "      <th>City</th>\n",
       "      <th>Zip Code</th>\n",
       "      <th>Lat Long</th>\n",
       "      <th>Latitude</th>\n",
       "      <th>Longitude</th>\n",
       "      <th>Gender</th>\n",
       "      <th>...</th>\n",
       "      <th>Contract</th>\n",
       "      <th>Paperless Billing</th>\n",
       "      <th>Payment Method</th>\n",
       "      <th>Monthly Charges</th>\n",
       "      <th>Total Charges</th>\n",
       "      <th>Churn Label</th>\n",
       "      <th>Churn Value</th>\n",
       "      <th>Churn Score</th>\n",
       "      <th>CLTV</th>\n",
       "      <th>Churn Reason</th>\n",
       "    </tr>\n",
       "  </thead>\n",
       "  <tbody>\n",
       "    <tr>\n",
       "      <th>0</th>\n",
       "      <td>3668-QPYBK</td>\n",
       "      <td>1</td>\n",
       "      <td>United States</td>\n",
       "      <td>California</td>\n",
       "      <td>Los Angeles</td>\n",
       "      <td>90003</td>\n",
       "      <td>33.964131, -118.272783</td>\n",
       "      <td>33.964131</td>\n",
       "      <td>-118.272783</td>\n",
       "      <td>Male</td>\n",
       "      <td>...</td>\n",
       "      <td>Month-to-month</td>\n",
       "      <td>Yes</td>\n",
       "      <td>Mailed check</td>\n",
       "      <td>53.85</td>\n",
       "      <td>108.15</td>\n",
       "      <td>Yes</td>\n",
       "      <td>1</td>\n",
       "      <td>86</td>\n",
       "      <td>3239</td>\n",
       "      <td>Competitor made better offer</td>\n",
       "    </tr>\n",
       "    <tr>\n",
       "      <th>1</th>\n",
       "      <td>9237-HQITU</td>\n",
       "      <td>1</td>\n",
       "      <td>United States</td>\n",
       "      <td>California</td>\n",
       "      <td>Los Angeles</td>\n",
       "      <td>90005</td>\n",
       "      <td>34.059281, -118.30742</td>\n",
       "      <td>34.059281</td>\n",
       "      <td>-118.307420</td>\n",
       "      <td>Female</td>\n",
       "      <td>...</td>\n",
       "      <td>Month-to-month</td>\n",
       "      <td>Yes</td>\n",
       "      <td>Electronic check</td>\n",
       "      <td>70.70</td>\n",
       "      <td>151.65</td>\n",
       "      <td>Yes</td>\n",
       "      <td>1</td>\n",
       "      <td>67</td>\n",
       "      <td>2701</td>\n",
       "      <td>Moved</td>\n",
       "    </tr>\n",
       "    <tr>\n",
       "      <th>2</th>\n",
       "      <td>9305-CDSKC</td>\n",
       "      <td>1</td>\n",
       "      <td>United States</td>\n",
       "      <td>California</td>\n",
       "      <td>Los Angeles</td>\n",
       "      <td>90006</td>\n",
       "      <td>34.048013, -118.293953</td>\n",
       "      <td>34.048013</td>\n",
       "      <td>-118.293953</td>\n",
       "      <td>Female</td>\n",
       "      <td>...</td>\n",
       "      <td>Month-to-month</td>\n",
       "      <td>Yes</td>\n",
       "      <td>Electronic check</td>\n",
       "      <td>99.65</td>\n",
       "      <td>820.5</td>\n",
       "      <td>Yes</td>\n",
       "      <td>1</td>\n",
       "      <td>86</td>\n",
       "      <td>5372</td>\n",
       "      <td>Moved</td>\n",
       "    </tr>\n",
       "    <tr>\n",
       "      <th>3</th>\n",
       "      <td>7892-POOKP</td>\n",
       "      <td>1</td>\n",
       "      <td>United States</td>\n",
       "      <td>California</td>\n",
       "      <td>Los Angeles</td>\n",
       "      <td>90010</td>\n",
       "      <td>34.062125, -118.315709</td>\n",
       "      <td>34.062125</td>\n",
       "      <td>-118.315709</td>\n",
       "      <td>Female</td>\n",
       "      <td>...</td>\n",
       "      <td>Month-to-month</td>\n",
       "      <td>Yes</td>\n",
       "      <td>Electronic check</td>\n",
       "      <td>104.80</td>\n",
       "      <td>3046.05</td>\n",
       "      <td>Yes</td>\n",
       "      <td>1</td>\n",
       "      <td>84</td>\n",
       "      <td>5003</td>\n",
       "      <td>Moved</td>\n",
       "    </tr>\n",
       "    <tr>\n",
       "      <th>4</th>\n",
       "      <td>0280-XJGEX</td>\n",
       "      <td>1</td>\n",
       "      <td>United States</td>\n",
       "      <td>California</td>\n",
       "      <td>Los Angeles</td>\n",
       "      <td>90015</td>\n",
       "      <td>34.039224, -118.266293</td>\n",
       "      <td>34.039224</td>\n",
       "      <td>-118.266293</td>\n",
       "      <td>Male</td>\n",
       "      <td>...</td>\n",
       "      <td>Month-to-month</td>\n",
       "      <td>Yes</td>\n",
       "      <td>Bank transfer (automatic)</td>\n",
       "      <td>103.70</td>\n",
       "      <td>5036.3</td>\n",
       "      <td>Yes</td>\n",
       "      <td>1</td>\n",
       "      <td>89</td>\n",
       "      <td>5340</td>\n",
       "      <td>Competitor had better devices</td>\n",
       "    </tr>\n",
       "  </tbody>\n",
       "</table>\n",
       "<p>5 rows × 33 columns</p>\n",
       "</div>"
      ],
      "text/plain": [
       "   CustomerID  Count        Country       State         City  Zip Code  \\\n",
       "0  3668-QPYBK      1  United States  California  Los Angeles     90003   \n",
       "1  9237-HQITU      1  United States  California  Los Angeles     90005   \n",
       "2  9305-CDSKC      1  United States  California  Los Angeles     90006   \n",
       "3  7892-POOKP      1  United States  California  Los Angeles     90010   \n",
       "4  0280-XJGEX      1  United States  California  Los Angeles     90015   \n",
       "\n",
       "                 Lat Long   Latitude   Longitude  Gender  ...        Contract  \\\n",
       "0  33.964131, -118.272783  33.964131 -118.272783    Male  ...  Month-to-month   \n",
       "1   34.059281, -118.30742  34.059281 -118.307420  Female  ...  Month-to-month   \n",
       "2  34.048013, -118.293953  34.048013 -118.293953  Female  ...  Month-to-month   \n",
       "3  34.062125, -118.315709  34.062125 -118.315709  Female  ...  Month-to-month   \n",
       "4  34.039224, -118.266293  34.039224 -118.266293    Male  ...  Month-to-month   \n",
       "\n",
       "  Paperless Billing             Payment Method  Monthly Charges Total Charges  \\\n",
       "0               Yes               Mailed check            53.85        108.15   \n",
       "1               Yes           Electronic check            70.70        151.65   \n",
       "2               Yes           Electronic check            99.65         820.5   \n",
       "3               Yes           Electronic check           104.80       3046.05   \n",
       "4               Yes  Bank transfer (automatic)           103.70        5036.3   \n",
       "\n",
       "  Churn Label Churn Value Churn Score  CLTV                   Churn Reason  \n",
       "0         Yes           1          86  3239   Competitor made better offer  \n",
       "1         Yes           1          67  2701                          Moved  \n",
       "2         Yes           1          86  5372                          Moved  \n",
       "3         Yes           1          84  5003                          Moved  \n",
       "4         Yes           1          89  5340  Competitor had better devices  \n",
       "\n",
       "[5 rows x 33 columns]"
      ]
     },
     "execution_count": 4,
     "metadata": {},
     "output_type": "execute_result"
    }
   ],
   "source": [
    "# Ver los datos\n",
    "data.head()"
   ]
  },
  {
   "cell_type": "code",
   "execution_count": 5,
   "metadata": {},
   "outputs": [
    {
     "data": {
      "text/plain": [
       "CustomerID            object\n",
       "Count                  int64\n",
       "Country               object\n",
       "State                 object\n",
       "City                  object\n",
       "Zip Code               int64\n",
       "Lat Long              object\n",
       "Latitude             float64\n",
       "Longitude            float64\n",
       "Gender                object\n",
       "Senior Citizen        object\n",
       "Partner               object\n",
       "Dependents            object\n",
       "Tenure Months          int64\n",
       "Phone Service         object\n",
       "Multiple Lines        object\n",
       "Internet Service      object\n",
       "Online Security       object\n",
       "Online Backup         object\n",
       "Device Protection     object\n",
       "Tech Support          object\n",
       "Streaming TV          object\n",
       "Streaming Movies      object\n",
       "Contract              object\n",
       "Paperless Billing     object\n",
       "Payment Method        object\n",
       "Monthly Charges      float64\n",
       "Total Charges         object\n",
       "Churn Label           object\n",
       "Churn Value            int64\n",
       "Churn Score            int64\n",
       "CLTV                   int64\n",
       "Churn Reason          object\n",
       "dtype: object"
      ]
     },
     "execution_count": 5,
     "metadata": {},
     "output_type": "execute_result"
    }
   ],
   "source": [
    "data.dtypes"
   ]
  },
  {
   "cell_type": "markdown",
   "metadata": {},
   "source": [
    "**Limpiar y procesamiento de datos**"
   ]
  },
  {
   "cell_type": "code",
   "execution_count": 6,
   "metadata": {},
   "outputs": [],
   "source": [
    "# Quitar espacio en blanco de los nombres de las columnas y reemplazar por guión bajo\n",
    "data.columns= data.columns.str.replace(' ', '_')"
   ]
  },
  {
   "cell_type": "code",
   "execution_count": 7,
   "metadata": {},
   "outputs": [
    {
     "data": {
      "text/plain": [
       "array([108.15, 151.65, 820.5, ..., 7362.9, 346.45, 6844.5], dtype=object)"
      ]
     },
     "execution_count": 7,
     "metadata": {},
     "output_type": "execute_result"
    }
   ],
   "source": [
    "# La columna \"Total Charges\" parece ser una variable categórica pero al hacer un vistazo en los datos hay datos numéricos\n",
    "data['Total_Charges'].unique()"
   ]
  },
  {
   "cell_type": "code",
   "execution_count": 7,
   "metadata": {},
   "outputs": [],
   "source": [
    "# Si se convierte la variable Total Charges a numérica de esta manera, habrá error porque hay espacios en lugar de nulos\n",
    "# data['Total_Charges'] = pd.to_numeric(data['Total_Charges'])"
   ]
  },
  {
   "cell_type": "code",
   "execution_count": 8,
   "metadata": {},
   "outputs": [
    {
     "data": {
      "text/plain": [
       "CustomerID            object\n",
       "Count                  int64\n",
       "Country               object\n",
       "State                 object\n",
       "City                  object\n",
       "Zip_Code               int64\n",
       "Lat_Long              object\n",
       "Latitude             float64\n",
       "Longitude            float64\n",
       "Gender                object\n",
       "Senior_Citizen        object\n",
       "Partner               object\n",
       "Dependents            object\n",
       "Tenure_Months          int64\n",
       "Phone_Service         object\n",
       "Multiple_Lines        object\n",
       "Internet_Service      object\n",
       "Online_Security       object\n",
       "Online_Backup         object\n",
       "Device_Protection     object\n",
       "Tech_Support          object\n",
       "Streaming_TV          object\n",
       "Streaming_Movies      object\n",
       "Contract              object\n",
       "Paperless_Billing     object\n",
       "Payment_Method        object\n",
       "Monthly_Charges      float64\n",
       "Total_Charges        float64\n",
       "Churn_Label           object\n",
       "Churn_Value            int64\n",
       "Churn_Score            int64\n",
       "CLTV                   int64\n",
       "Churn_Reason          object\n",
       "dtype: object"
      ]
     },
     "execution_count": 8,
     "metadata": {},
     "output_type": "execute_result"
    }
   ],
   "source": [
    "# Parece haber filas con espacio en blanco y por eso toma a la variable como categórica\n",
    "# Sustituir esos valores con cero\n",
    "data.loc[(data['Total_Charges']==' '),'Total_Charges']= 0\n",
    "# Convertir a tipo de dato numérico\n",
    "data['Total_Charges'] = pd.to_numeric(data['Total_Charges'])\n",
    "data.dtypes"
   ]
  },
  {
   "cell_type": "code",
   "execution_count": 9,
   "metadata": {},
   "outputs": [],
   "source": [
    "# Existen 4 variables que debemos remover\n",
    "data.drop(['Churn_Label','Churn_Reason','Churn_Score','CLTV'], axis=1, inplace=True)"
   ]
  },
  {
   "cell_type": "code",
   "execution_count": 10,
   "metadata": {},
   "outputs": [
    {
     "data": {
      "text/plain": [
       "CustomerID           7043\n",
       "Count                   1\n",
       "Country                 1\n",
       "State                   1\n",
       "City                 1129\n",
       "Zip_Code             1652\n",
       "Lat_Long             1652\n",
       "Latitude             1652\n",
       "Longitude            1651\n",
       "Gender                  2\n",
       "Senior_Citizen          2\n",
       "Partner                 2\n",
       "Dependents              2\n",
       "Tenure_Months          73\n",
       "Phone_Service           2\n",
       "Multiple_Lines          3\n",
       "Internet_Service        3\n",
       "Online_Security         3\n",
       "Online_Backup           3\n",
       "Device_Protection       3\n",
       "Tech_Support            3\n",
       "Streaming_TV            3\n",
       "Streaming_Movies        3\n",
       "Contract                3\n",
       "Paperless_Billing       2\n",
       "Payment_Method          4\n",
       "Monthly_Charges      1585\n",
       "Total_Charges        6531\n",
       "Churn_Value             2\n",
       "dtype: int64"
      ]
     },
     "execution_count": 10,
     "metadata": {},
     "output_type": "execute_result"
    }
   ],
   "source": [
    "# Eliminar variables que tienen muy poca varianza (que contienen muy pocos valores únicos)\n",
    "data.nunique()"
   ]
  },
  {
   "cell_type": "code",
   "execution_count": 11,
   "metadata": {},
   "outputs": [],
   "source": [
    "# Quitar CustomerID, Lat Long, count, country y state\n",
    "data.drop(['CustomerID','Lat_Long','Count','Country','State'], axis=1, inplace=True)"
   ]
  },
  {
   "cell_type": "code",
   "execution_count": 12,
   "metadata": {},
   "outputs": [
    {
     "data": {
      "text/plain": [
       "City                 1129\n",
       "Zip_Code             1652\n",
       "Latitude             1652\n",
       "Longitude            1651\n",
       "Gender                  2\n",
       "Senior_Citizen          2\n",
       "Partner                 2\n",
       "Dependents              2\n",
       "Tenure_Months          73\n",
       "Phone_Service           2\n",
       "Multiple_Lines          3\n",
       "Internet_Service        3\n",
       "Online_Security         3\n",
       "Online_Backup           3\n",
       "Device_Protection       3\n",
       "Tech_Support            3\n",
       "Streaming_TV            3\n",
       "Streaming_Movies        3\n",
       "Contract                3\n",
       "Paperless_Billing       2\n",
       "Payment_Method          4\n",
       "Monthly_Charges      1585\n",
       "Total_Charges        6531\n",
       "Churn_Value             2\n",
       "dtype: int64"
      ]
     },
     "execution_count": 12,
     "metadata": {},
     "output_type": "execute_result"
    }
   ],
   "source": [
    "data.nunique()"
   ]
  },
  {
   "cell_type": "code",
   "execution_count": 13,
   "metadata": {},
   "outputs": [],
   "source": [
    "# Quitar espacio en blanco de los valores de las columnas y reemplazar por guión bajo\n",
    "data.replace(' ','_', regex= True, inplace= True)"
   ]
  },
  {
   "cell_type": "code",
   "execution_count": 14,
   "metadata": {},
   "outputs": [
    {
     "data": {
      "text/html": [
       "<div>\n",
       "<style scoped>\n",
       "    .dataframe tbody tr th:only-of-type {\n",
       "        vertical-align: middle;\n",
       "    }\n",
       "\n",
       "    .dataframe tbody tr th {\n",
       "        vertical-align: top;\n",
       "    }\n",
       "\n",
       "    .dataframe thead th {\n",
       "        text-align: right;\n",
       "    }\n",
       "</style>\n",
       "<table border=\"1\" class=\"dataframe\">\n",
       "  <thead>\n",
       "    <tr style=\"text-align: right;\">\n",
       "      <th></th>\n",
       "      <th>City</th>\n",
       "      <th>Zip_Code</th>\n",
       "      <th>Latitude</th>\n",
       "      <th>Longitude</th>\n",
       "      <th>Gender</th>\n",
       "      <th>Senior_Citizen</th>\n",
       "      <th>Partner</th>\n",
       "      <th>Dependents</th>\n",
       "      <th>Tenure_Months</th>\n",
       "      <th>Phone_Service</th>\n",
       "      <th>...</th>\n",
       "      <th>Online_Backup</th>\n",
       "      <th>Device_Protection</th>\n",
       "      <th>Tech_Support</th>\n",
       "      <th>Streaming_TV</th>\n",
       "      <th>Streaming_Movies</th>\n",
       "      <th>Contract</th>\n",
       "      <th>Paperless_Billing</th>\n",
       "      <th>Payment_Method</th>\n",
       "      <th>Monthly_Charges</th>\n",
       "      <th>Total_Charges</th>\n",
       "    </tr>\n",
       "  </thead>\n",
       "  <tbody>\n",
       "    <tr>\n",
       "      <th>0</th>\n",
       "      <td>Los_Angeles</td>\n",
       "      <td>90003</td>\n",
       "      <td>33.964131</td>\n",
       "      <td>-118.272783</td>\n",
       "      <td>Male</td>\n",
       "      <td>No</td>\n",
       "      <td>No</td>\n",
       "      <td>No</td>\n",
       "      <td>2</td>\n",
       "      <td>Yes</td>\n",
       "      <td>...</td>\n",
       "      <td>Yes</td>\n",
       "      <td>No</td>\n",
       "      <td>No</td>\n",
       "      <td>No</td>\n",
       "      <td>No</td>\n",
       "      <td>Month-to-month</td>\n",
       "      <td>Yes</td>\n",
       "      <td>Mailed_check</td>\n",
       "      <td>53.85</td>\n",
       "      <td>108.15</td>\n",
       "    </tr>\n",
       "    <tr>\n",
       "      <th>1</th>\n",
       "      <td>Los_Angeles</td>\n",
       "      <td>90005</td>\n",
       "      <td>34.059281</td>\n",
       "      <td>-118.307420</td>\n",
       "      <td>Female</td>\n",
       "      <td>No</td>\n",
       "      <td>No</td>\n",
       "      <td>Yes</td>\n",
       "      <td>2</td>\n",
       "      <td>Yes</td>\n",
       "      <td>...</td>\n",
       "      <td>No</td>\n",
       "      <td>No</td>\n",
       "      <td>No</td>\n",
       "      <td>No</td>\n",
       "      <td>No</td>\n",
       "      <td>Month-to-month</td>\n",
       "      <td>Yes</td>\n",
       "      <td>Electronic_check</td>\n",
       "      <td>70.70</td>\n",
       "      <td>151.65</td>\n",
       "    </tr>\n",
       "    <tr>\n",
       "      <th>2</th>\n",
       "      <td>Los_Angeles</td>\n",
       "      <td>90006</td>\n",
       "      <td>34.048013</td>\n",
       "      <td>-118.293953</td>\n",
       "      <td>Female</td>\n",
       "      <td>No</td>\n",
       "      <td>No</td>\n",
       "      <td>Yes</td>\n",
       "      <td>8</td>\n",
       "      <td>Yes</td>\n",
       "      <td>...</td>\n",
       "      <td>No</td>\n",
       "      <td>Yes</td>\n",
       "      <td>No</td>\n",
       "      <td>Yes</td>\n",
       "      <td>Yes</td>\n",
       "      <td>Month-to-month</td>\n",
       "      <td>Yes</td>\n",
       "      <td>Electronic_check</td>\n",
       "      <td>99.65</td>\n",
       "      <td>820.50</td>\n",
       "    </tr>\n",
       "  </tbody>\n",
       "</table>\n",
       "<p>3 rows × 23 columns</p>\n",
       "</div>"
      ],
      "text/plain": [
       "          City  Zip_Code   Latitude   Longitude  Gender Senior_Citizen  \\\n",
       "0  Los_Angeles     90003  33.964131 -118.272783    Male             No   \n",
       "1  Los_Angeles     90005  34.059281 -118.307420  Female             No   \n",
       "2  Los_Angeles     90006  34.048013 -118.293953  Female             No   \n",
       "\n",
       "  Partner Dependents  Tenure_Months Phone_Service  ... Online_Backup  \\\n",
       "0      No         No              2           Yes  ...           Yes   \n",
       "1      No        Yes              2           Yes  ...            No   \n",
       "2      No        Yes              8           Yes  ...            No   \n",
       "\n",
       "  Device_Protection Tech_Support Streaming_TV Streaming_Movies  \\\n",
       "0                No           No           No               No   \n",
       "1                No           No           No               No   \n",
       "2               Yes           No          Yes              Yes   \n",
       "\n",
       "         Contract Paperless_Billing    Payment_Method Monthly_Charges  \\\n",
       "0  Month-to-month               Yes      Mailed_check           53.85   \n",
       "1  Month-to-month               Yes  Electronic_check           70.70   \n",
       "2  Month-to-month               Yes  Electronic_check           99.65   \n",
       "\n",
       "  Total_Charges  \n",
       "0        108.15  \n",
       "1        151.65  \n",
       "2        820.50  \n",
       "\n",
       "[3 rows x 23 columns]"
      ]
     },
     "execution_count": 14,
     "metadata": {},
     "output_type": "execute_result"
    }
   ],
   "source": [
    "# Separar nuestras X de nuestras Y\n",
    "X = data.drop('Churn_Value', axis=1).copy()\n",
    "X.head(3)"
   ]
  },
  {
   "cell_type": "code",
   "execution_count": 15,
   "metadata": {},
   "outputs": [],
   "source": [
    "y= data['Churn_Value'].copy()"
   ]
  },
  {
   "cell_type": "code",
   "execution_count": 16,
   "metadata": {},
   "outputs": [
    {
     "data": {
      "text/html": [
       "<div>\n",
       "<style scoped>\n",
       "    .dataframe tbody tr th:only-of-type {\n",
       "        vertical-align: middle;\n",
       "    }\n",
       "\n",
       "    .dataframe tbody tr th {\n",
       "        vertical-align: top;\n",
       "    }\n",
       "\n",
       "    .dataframe thead th {\n",
       "        text-align: right;\n",
       "    }\n",
       "</style>\n",
       "<table border=\"1\" class=\"dataframe\">\n",
       "  <thead>\n",
       "    <tr style=\"text-align: right;\">\n",
       "      <th></th>\n",
       "      <th>Zip_Code</th>\n",
       "      <th>Latitude</th>\n",
       "      <th>Longitude</th>\n",
       "      <th>Tenure_Months</th>\n",
       "      <th>Monthly_Charges</th>\n",
       "      <th>Total_Charges</th>\n",
       "      <th>City_Acampo</th>\n",
       "      <th>City_Acton</th>\n",
       "      <th>City_Adelanto</th>\n",
       "      <th>City_Adin</th>\n",
       "      <th>...</th>\n",
       "      <th>Streaming_Movies_Yes</th>\n",
       "      <th>Contract_Month-to-month</th>\n",
       "      <th>Contract_One_year</th>\n",
       "      <th>Contract_Two_year</th>\n",
       "      <th>Paperless_Billing_No</th>\n",
       "      <th>Paperless_Billing_Yes</th>\n",
       "      <th>Payment_Method_Bank_transfer_(automatic)</th>\n",
       "      <th>Payment_Method_Credit_card_(automatic)</th>\n",
       "      <th>Payment_Method_Electronic_check</th>\n",
       "      <th>Payment_Method_Mailed_check</th>\n",
       "    </tr>\n",
       "  </thead>\n",
       "  <tbody>\n",
       "    <tr>\n",
       "      <th>0</th>\n",
       "      <td>90003</td>\n",
       "      <td>33.964131</td>\n",
       "      <td>-118.272783</td>\n",
       "      <td>2</td>\n",
       "      <td>53.85</td>\n",
       "      <td>108.15</td>\n",
       "      <td>0</td>\n",
       "      <td>0</td>\n",
       "      <td>0</td>\n",
       "      <td>0</td>\n",
       "      <td>...</td>\n",
       "      <td>0</td>\n",
       "      <td>1</td>\n",
       "      <td>0</td>\n",
       "      <td>0</td>\n",
       "      <td>0</td>\n",
       "      <td>1</td>\n",
       "      <td>0</td>\n",
       "      <td>0</td>\n",
       "      <td>0</td>\n",
       "      <td>1</td>\n",
       "    </tr>\n",
       "    <tr>\n",
       "      <th>1</th>\n",
       "      <td>90005</td>\n",
       "      <td>34.059281</td>\n",
       "      <td>-118.307420</td>\n",
       "      <td>2</td>\n",
       "      <td>70.70</td>\n",
       "      <td>151.65</td>\n",
       "      <td>0</td>\n",
       "      <td>0</td>\n",
       "      <td>0</td>\n",
       "      <td>0</td>\n",
       "      <td>...</td>\n",
       "      <td>0</td>\n",
       "      <td>1</td>\n",
       "      <td>0</td>\n",
       "      <td>0</td>\n",
       "      <td>0</td>\n",
       "      <td>1</td>\n",
       "      <td>0</td>\n",
       "      <td>0</td>\n",
       "      <td>1</td>\n",
       "      <td>0</td>\n",
       "    </tr>\n",
       "    <tr>\n",
       "      <th>2</th>\n",
       "      <td>90006</td>\n",
       "      <td>34.048013</td>\n",
       "      <td>-118.293953</td>\n",
       "      <td>8</td>\n",
       "      <td>99.65</td>\n",
       "      <td>820.50</td>\n",
       "      <td>0</td>\n",
       "      <td>0</td>\n",
       "      <td>0</td>\n",
       "      <td>0</td>\n",
       "      <td>...</td>\n",
       "      <td>1</td>\n",
       "      <td>1</td>\n",
       "      <td>0</td>\n",
       "      <td>0</td>\n",
       "      <td>0</td>\n",
       "      <td>1</td>\n",
       "      <td>0</td>\n",
       "      <td>0</td>\n",
       "      <td>1</td>\n",
       "      <td>0</td>\n",
       "    </tr>\n",
       "  </tbody>\n",
       "</table>\n",
       "<p>3 rows × 1178 columns</p>\n",
       "</div>"
      ],
      "text/plain": [
       "   Zip_Code   Latitude   Longitude  Tenure_Months  Monthly_Charges  \\\n",
       "0     90003  33.964131 -118.272783              2            53.85   \n",
       "1     90005  34.059281 -118.307420              2            70.70   \n",
       "2     90006  34.048013 -118.293953              8            99.65   \n",
       "\n",
       "   Total_Charges  City_Acampo  City_Acton  City_Adelanto  City_Adin  ...  \\\n",
       "0         108.15            0           0              0          0  ...   \n",
       "1         151.65            0           0              0          0  ...   \n",
       "2         820.50            0           0              0          0  ...   \n",
       "\n",
       "   Streaming_Movies_Yes  Contract_Month-to-month  Contract_One_year  \\\n",
       "0                     0                        1                  0   \n",
       "1                     0                        1                  0   \n",
       "2                     1                        1                  0   \n",
       "\n",
       "   Contract_Two_year  Paperless_Billing_No  Paperless_Billing_Yes  \\\n",
       "0                  0                     0                      1   \n",
       "1                  0                     0                      1   \n",
       "2                  0                     0                      1   \n",
       "\n",
       "   Payment_Method_Bank_transfer_(automatic)  \\\n",
       "0                                         0   \n",
       "1                                         0   \n",
       "2                                         0   \n",
       "\n",
       "   Payment_Method_Credit_card_(automatic)  Payment_Method_Electronic_check  \\\n",
       "0                                       0                                0   \n",
       "1                                       0                                1   \n",
       "2                                       0                                1   \n",
       "\n",
       "   Payment_Method_Mailed_check  \n",
       "0                            1  \n",
       "1                            0  \n",
       "2                            0  \n",
       "\n",
       "[3 rows x 1178 columns]"
      ]
     },
     "execution_count": 16,
     "metadata": {},
     "output_type": "execute_result"
    }
   ],
   "source": [
    "# Crear variables dummy. Convertir una varialbe categórica en múltiples columnas con valores binarios\n",
    "X_nuevo= pd.get_dummies(X, columns=['City','Gender','Senior_Citizen','Partner','Dependents',\n",
    "                                    'Phone_Service','Multiple_Lines','Internet_Service','Online_Security',\n",
    "                                    'Online_Backup','Device_Protection','Tech_Support','Streaming_TV',\n",
    "                                    'Streaming_Movies','Contract','Paperless_Billing','Payment_Method'])\n",
    "X_nuevo.head(3)"
   ]
  },
  {
   "cell_type": "code",
   "execution_count": 17,
   "metadata": {},
   "outputs": [
    {
     "data": {
      "text/plain": [
       "0.2653698707936959"
      ]
     },
     "execution_count": 17,
     "metadata": {},
     "output_type": "execute_result"
    }
   ],
   "source": [
    "# Viendo si nuestra variable a predecir tiene datos imbalanceados\n",
    "sum(y)/len(y)"
   ]
  },
  {
   "cell_type": "markdown",
   "metadata": {},
   "source": [
    "**Construcción del modelo**"
   ]
  },
  {
   "cell_type": "code",
   "execution_count": 18,
   "metadata": {},
   "outputs": [],
   "source": [
    "# Dividir los datos en train y test\n",
    "X_train, X_test, y_train, y_test = train_test_split(X_nuevo, y, random_state=42, stratify=y)"
   ]
  },
  {
   "cell_type": "code",
   "execution_count": 19,
   "metadata": {},
   "outputs": [
    {
     "data": {
      "text/plain": [
       "0.2654297614539947"
      ]
     },
     "execution_count": 19,
     "metadata": {},
     "output_type": "execute_result"
    }
   ],
   "source": [
    "sum(y_train)/len(y_train)"
   ]
  },
  {
   "cell_type": "code",
   "execution_count": 20,
   "metadata": {},
   "outputs": [
    {
     "data": {
      "text/plain": [
       "0.26519023282226006"
      ]
     },
     "execution_count": 20,
     "metadata": {},
     "output_type": "execute_result"
    }
   ],
   "source": [
    "sum(y_test)/len(y_test)"
   ]
  },
  {
   "cell_type": "code",
   "execution_count": 21,
   "metadata": {},
   "outputs": [
    {
     "name": "stderr",
     "output_type": "stream",
     "text": [
      "C:\\Users\\Daniela Cardenas\\Anaconda Navigator\\lib\\site-packages\\xgboost\\sklearn.py:1224: UserWarning: The use of label encoder in XGBClassifier is deprecated and will be removed in a future release. To remove this warning, do the following: 1) Pass option use_label_encoder=False when constructing XGBClassifier object; and 2) Encode your labels (y) as integers starting with 0, i.e. 0, 1, 2, ..., [num_class - 1].\n",
      "  warnings.warn(label_encoder_deprecation_msg, UserWarning)\n"
     ]
    },
    {
     "name": "stdout",
     "output_type": "stream",
     "text": [
      "[0]\tvalidation_0-aucpr:0.64036\n",
      "[1]\tvalidation_0-aucpr:0.64404\n",
      "[2]\tvalidation_0-aucpr:0.65124\n",
      "[3]\tvalidation_0-aucpr:0.65311\n",
      "[4]\tvalidation_0-aucpr:0.65514\n",
      "[5]\tvalidation_0-aucpr:0.65397\n",
      "[6]\tvalidation_0-aucpr:0.64818\n",
      "[7]\tvalidation_0-aucpr:0.64908\n",
      "[8]\tvalidation_0-aucpr:0.65365\n",
      "[9]\tvalidation_0-aucpr:0.65074\n",
      "[10]\tvalidation_0-aucpr:0.65011\n",
      "[11]\tvalidation_0-aucpr:0.65012\n",
      "[12]\tvalidation_0-aucpr:0.65120\n",
      "[13]\tvalidation_0-aucpr:0.65151\n"
     ]
    },
    {
     "data": {
      "text/plain": [
       "XGBClassifier(base_score=0.5, booster='gbtree', colsample_bylevel=1,\n",
       "              colsample_bynode=1, colsample_bytree=1, enable_categorical=False,\n",
       "              gamma=0, gpu_id=-1, importance_type=None,\n",
       "              interaction_constraints='', learning_rate=0.300000012,\n",
       "              max_delta_step=0, max_depth=6, min_child_weight=1, missing=1,\n",
       "              monotone_constraints='()', n_estimators=100, n_jobs=8,\n",
       "              num_parallel_tree=1, predictor='auto', random_state=42,\n",
       "              reg_alpha=0, reg_lambda=1, scale_pos_weight=1, seed=42,\n",
       "              subsample=1, tree_method='exact', validate_parameters=1,\n",
       "              verbosity=None)"
      ]
     },
     "execution_count": 21,
     "metadata": {},
     "output_type": "execute_result"
    }
   ],
   "source": [
    "# Construir el xgboost\n",
    "# Inicializar objeto de clasificación\n",
    "modelo= xgb.XGBClassifier(objective= 'binary:logistic', missing= 1, seed= 42)\n",
    "# Entrenar modelo\n",
    "modelo.fit(X_train, y_train, verbose= True,\n",
    "          early_stopping_rounds= 10, # Parar de construir más árboles si no mejora la situación de los residuales\n",
    "          eval_metric= 'aucpr',\n",
    "          eval_set= [(X_test, y_test)])"
   ]
  },
  {
   "cell_type": "code",
   "execution_count": 22,
   "metadata": {},
   "outputs": [
    {
     "data": {
      "text/plain": [
       "<sklearn.metrics._plot.confusion_matrix.ConfusionMatrixDisplay at 0x230b926f4c0>"
      ]
     },
     "execution_count": 22,
     "metadata": {},
     "output_type": "execute_result"
    },
    {
     "data": {
      "image/png": "[encoded data removed]",
      "text/plain": [
       "<Figure size 432x288 with 2 Axes>"
      ]
     },
     "metadata": {
      "needs_background": "light"
     },
     "output_type": "display_data"
    }
   ],
   "source": [
    "# Ver cómo funciona el modelo entrenado con los datos de prueba\n",
    "plot_confusion_matrix(modelo, X_test, y_test, values_format='d', display_labels=[\"No se fue\",\"Se fue\"])"
   ]
  },
  {
   "cell_type": "markdown",
   "metadata": {},
   "source": [
    "En la matriz de confusión vemos que:\n",
    "+ De $1294$ personas que no se fueron, $1148$ ($88$%) fueron clasificados correctamente. \n",
    "+ De los $467$ personas que sí se fueron, $255$ ($54$%) fueron clasificados correctamente. \n",
    "\n",
    "Entonces el modelo de XGBoost no fue tan bueno. Parte del problema es que los datos están imbalanceados. \n",
    "\n",
    "Ya que el hecho de que se vaya la gente y deje los servicios de IBM cuesta dinero, queremos capturar más la información de las personas que se fueron. La buena noticia es que `XGBoost` tiene un parámetro, \n",
    "`scale_pos_weight`, que ayuda con datos imbalanceados. \n",
    "\n",
    "Utilicemos **cross-validation** para optimizar los parámetros. \n",
    "\n",
    "#### Cross validation y GridSearch para optimizar los hiper-parámetros\n",
    "`XGBoost` tiene muchísimos hiper-parámetros a ajustar ya sean:\n",
    "- `max_depth`\n",
    "- `learning_rate (eta)`\n",
    "- `gamma`\n",
    "- `reg_lambda`"
   ]
  },
  {
   "cell_type": "code",
   "execution_count": 23,
   "metadata": {},
   "outputs": [
    {
     "name": "stderr",
     "output_type": "stream",
     "text": [
      "C:\\Users\\Daniela Cardenas\\Anaconda Navigator\\lib\\site-packages\\xgboost\\sklearn.py:1224: UserWarning: The use of label encoder in XGBClassifier is deprecated and will be removed in a future release. To remove this warning, do the following: 1) Pass option use_label_encoder=False when constructing XGBClassifier object; and 2) Encode your labels (y) as integers starting with 0, i.e. 0, 1, 2, ..., [num_class - 1].\n",
      "  warnings.warn(label_encoder_deprecation_msg, UserWarning)\n"
     ]
    },
    {
     "data": {
      "text/plain": [
       "{'gamma': 0.25,\n",
       " 'learning_rate': 0.1,\n",
       " 'max_depth': 4,\n",
       " 'reg_lambda': 10,\n",
       " 'scale_pos_weight': 3}"
      ]
     },
     "execution_count": 23,
     "metadata": {},
     "output_type": "execute_result"
    }
   ],
   "source": [
    "# Omptimizar parámetros por secciones para hacerlo más rápido\n",
    "\n",
    "#Ronda 1\n",
    "#param_grid={\n",
    "#    'max_depth':[3,4,5],\n",
    "#    'learning_rate':[0.1,0.01,0.05],\n",
    "#    'gamma':[0, 0.25,1],\n",
    "#    'reg_lambda':[0,1,10],\n",
    "#    'scale_pos_weight':[1,3,5]\n",
    "#}\n",
    "\n",
    "#Ronda 2\n",
    "param_grid={\n",
    "    'max_depth':[4],\n",
    "    'learning_rate':[0.1,0.5,1],\n",
    "    'gamma':[0.25],\n",
    "    'reg_lambda':[10,20,100],\n",
    "    'scale_pos_weight':[3]\n",
    "}\n",
    "\n",
    "optimal_params = GridSearchCV(\n",
    "                            estimator=xgb.XGBClassifier(objective='binary:logistic',\n",
    "                            seed=42,\n",
    "                            subsample=0.9,\n",
    "                            colsample_bytree=0.5),\n",
    "                            param_grid=param_grid,\n",
    "                            scoring='roc_auc',\n",
    "                            verbose=0,\n",
    "                            n_jobs=10,\n",
    "                            cv=3)\n",
    "\n",
    "optimal_params.fit(X_train, y_train,\n",
    "                  early_stopping_rounds=10,\n",
    "                  eval_metric='auc',\n",
    "                  eval_set=[(X_test, y_test)],\n",
    "                  verbose=False)\n",
    "optimal_params.best_params_"
   ]
  },
  {
   "cell_type": "code",
   "execution_count": 24,
   "metadata": {},
   "outputs": [
    {
     "name": "stdout",
     "output_type": "stream",
     "text": [
      "[13:59:16] WARNING: C:/Users/Administrator/workspace/xgboost-win64_release_1.5.0/src/learner.cc:576: \n",
      "Parameters: { \"learn_rate\" } might not be used.\n",
      "\n",
      "  This could be a false alarm, with some parameters getting used by language bindings but\n",
      "  then being mistakenly passed down to XGBoost core, or some parameter actually being used\n",
      "  but getting flagged wrongly here. Please open an issue if you find any such cases.\n",
      "\n",
      "\n"
     ]
    },
    {
     "data": {
      "text/plain": [
       "XGBClassifier(base_score=0.5, booster='gbtree', colsample_bylevel=1,\n",
       "              colsample_bynode=1, colsample_bytree=0.5,\n",
       "              enable_categorical=False, gamma=0.25, gpu_id=-1,\n",
       "              importance_type=None, interaction_constraints='', learn_rate=0.1,\n",
       "              learning_rate=0.300000012, max_delta_step=0, max_depth=4,\n",
       "              min_child_weight=1, missing=nan, monotone_constraints='()',\n",
       "              n_estimators=100, n_jobs=8, num_parallel_tree=1, predictor='auto',\n",
       "              random_state=42, reg_alpha=0, reg_lambda=10, scale_pos_weight=3,\n",
       "              seed=42, subsample=0.9, tree_method='exact',\n",
       "              validate_parameters=1, verbosity=None)"
      ]
     },
     "execution_count": 24,
     "metadata": {},
     "output_type": "execute_result"
    }
   ],
   "source": [
    "# Construir y evaluar el XGBoost con los hiperparámetros óptimos\n",
    "modelo = xgb.XGBClassifier(objective='binary:logistic',\n",
    "                            seed=42,\n",
    "                           gamma=0.25,\n",
    "                           learn_rate=0.1,\n",
    "                           max_depth=4,\n",
    "                           reg_lambda=10,\n",
    "                           scale_pos_weight=3,\n",
    "                            subsample=0.9,\n",
    "                            colsample_bytree=0.5)\n",
    "\n",
    "modelo.fit(X_train, y_train,\n",
    "                  early_stopping_rounds=10,\n",
    "                  eval_metric='auc',\n",
    "                  eval_set=[(X_test, y_test)],\n",
    "                  verbose=False)"
   ]
  },
  {
   "cell_type": "code",
   "execution_count": 25,
   "metadata": {},
   "outputs": [
    {
     "data": {
      "text/plain": [
       "<sklearn.metrics._plot.confusion_matrix.ConfusionMatrixDisplay at 0x230b77b02b0>"
      ]
     },
     "execution_count": 25,
     "metadata": {},
     "output_type": "execute_result"
    },
    {
     "data": {
      "image/png": "[encoded data removed]",
      "text/plain": [
       "<Figure size 432x288 with 2 Axes>"
      ]
     },
     "metadata": {
      "needs_background": "light"
     },
     "output_type": "display_data"
    }
   ],
   "source": [
    "# Ver cómo funciona el modelo entrenado con los datos de prueba\n",
    "plot_confusion_matrix(modelo, X_test, y_test, values_format='d', display_labels=[\"No se fue\",\"Se fue\"])\n"
   ]
  },
  {
   "cell_type": "markdown",
   "metadata": {},
   "source": [
    "### <font color='maroon'> Matriz de confusión: </font>\n",
    "+ `TP`: True Positive\n",
    "+ `TN`: True Negative\n",
    "+ `FP`: False Positive\n",
    "+ `FN`: False Negative\n",
    "___\n",
    "+ <font color='blue'> **Accuracy:** </font>\n",
    "\n",
    "$\\frac{TP+TN}{TP+TN+FP+FN}$\n",
    "\n",
    "Mide de cuántas observaciones nuestro modelo predijo correctamente sobre el número total de observaciones. \n",
    "\n",
    "+ <font color='blue'> **Precision:** </font>\n",
    "\n",
    "$\\frac{TP}{TP+FP}$\n",
    "Mide cuántas observaciones nuestro modelo predijo correctamente sobre el número de predicciones correctas e incorrectas. \n",
    "\n",
    "+ <font color='blue'> **Recall o Sensivity:** </font>\n",
    "\n",
    "$\\frac{TP}{TP+FN}$\n",
    "Mide cuántas observaciones nuestro modelo predijo correctamente sobre el número total de observaciones. \n",
    "\n",
    "+ <font color='blue'> **F1 Score:** </font>\n",
    "\n",
    "$\\frac{2\\cdot \\text{Precision} \\cdot \\text{Recall}}{\\text{Precision} + \\text{Recall}}$\n",
    "Es un balance entre la precisión y recall\n",
    "\n",
    "**¿Cuál elegir?**\n",
    "+ Si se tienen datos balanceados, el `Accuracy` podría ser la métrica más apropiada para usar.\n",
    "+ Si se estuviera tratando de detectar si una manzana está envenenada, el objetivo es reducir el número de $FN$, porque se espera no cometer errorer al clasificar manzanas que están envenenadas. En este caso el `Recall` sería la mejor métrica de evaluación. \n",
    "+ Si se trata de predecir si es buena idea invertir en una acción de la bolsa, se esperaría que el modelo sea bueno. En este caso el `Precision` sería la mejor métrica de evaluación ya que mide qué tan \"correcto\" es el modelo. \n",
    "+ Si se busca maximizar tanto el `Precision` como el `Recall`, entonces el `F1 Score` es la mejor métrica de evaluación. "
   ]
  },
  {
   "cell_type": "markdown",
   "metadata": {},
   "source": [
    "En la matriz de confusión vemos que de $1294$ personas que no se fueron, $933$ ($72$%) fueron clasificados correctamente. \n",
    "\n",
    "Y de los $467$ personas que sí se fueron, $387$ ($82$%) fueron clasificados correctamente."
   ]
  },
  {
   "cell_type": "markdown",
   "metadata": {},
   "source": [
    "#### Un poco de bibliografía...\n",
    "[www.kaggle.com](https://www.kaggle.com/prashant111/a-guide-on-xgboost-hyperparameters-tuning)"
   ]
  }
 ],
 "metadata": {
  "kernelspec": {
   "display_name": "Python 3",
   "language": "python",
   "name": "python3"
  },
  "language_info": {
   "codemirror_mode": {
    "name": "ipython",
    "version": 3
   },
   "file_extension": ".py",
   "mimetype": "text/x-python",
   "name": "python",
   "nbconvert_exporter": "python",
   "pygments_lexer": "ipython3",
   "version": "3.8.5"
  }
 },
 "nbformat": 4,
 "nbformat_minor": 4
}
