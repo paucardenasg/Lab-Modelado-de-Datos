{
 "cells": [
  {
   "cell_type": "markdown",
   "metadata": {},
   "source": [
    "___\n",
    "<img style=\"float: right; margin: 0px 0px 15px 15px;\" src=\"http://www.lintao-dashboards.com/wp-content/uploads/2016/02/ldm930.jpg\" width=\"350px\" height=\"180px\" />\n",
    "\n",
    "\n",
    "# <font color= 'maroon'> Proyecto Laboratorio de Modelado de Datos </font>\n",
    "- <Strong> `Paula Daniela Cárdenas Gallardo` </Strong>\n",
    "- <Strong> Expediente </Strong>: $733720$\n",
    "- <Strong> Año </Strong>: $2021$\n",
    "- <Strong> Email: </Strong>  <font color=\"blue\"> `paula.cardenas@iteso.mx` </font>\n",
    "___\n",
    "\n",
    "<p style=\"text-align:right;\"> Imagen recuperada de: http://www.lintao-dashboards.com/wp-content/uploads/2016/02/ldm930.jpg.</p>"
   ]
  },
  {
   "cell_type": "markdown",
   "metadata": {},
   "source": [
    "## <font color= 'darkblue'> Introducción </font>"
   ]
  },
  {
   "cell_type": "markdown",
   "metadata": {},
   "source": [
    "A lo largo de este trabajo se realizarán varios modelos matemáticos para predecir datos, a través del aprendizaje supervisado, respecto a un conjunto de datos. Dicho trabajo se dividirá en dos problemas; uno de regresión y otro de clasificación, cada uno con su respectivo conjunto de datos. Ambos *datasets* se consiguieron del repertorio `UCI` [archive.ics.uci.edu](https://archive.ics.uci.edu/ml/index.php), las ligas de cada uno se especificarán posteriormente. \n",
    "\n",
    "Para llevar a cabo los procedimientos, se necesitan importar algunas librerías, así como especificar la ruta donde se encuentra el archivo descargado de cada base de datos. Más adelante se dan mayores detalles y requerimientos. Además, antes de los modelos mencionados, primero se hará un análisis y preprocesamiento de datos para identificar el tamaño de los datos, el significado de cada variable, si hay datos nulos, atípicos, entre otras cosas. Posterior a ello, se procederá a realizar tres distintos modelos para regresión y tres diferentes modelos para clasificación, mismos que se compararán para sacar conclusiones pertinentes.\n",
    "\n",
    "Mediante este reporte, se irá explicando lo que se realiza junto con el código utilizado para lograrlo. En caso de desear utilizar estos datos para aplicaciones reales o para la industria, se recomienda comparar más modelos; redes neuronales, xgboost, regresiones, etc. y sus respectivas optimizaciones de hiperparámetros. Este trabajo tiene fines académicos."
   ]
  },
  {
   "cell_type": "markdown",
   "metadata": {},
   "source": [
    "## <font color= 'darkblue'> Desarrollo </font>"
   ]
  },
  {
   "cell_type": "code",
   "execution_count": 1,
   "metadata": {},
   "outputs": [],
   "source": [
    "# Librerías\n",
    "import numpy as np\n",
    "import pandas as pd\n",
    "import matplotlib.pyplot as plt\n",
    "import seaborn as sns\n",
    "from sklearn import preprocessing\n",
    "from sklearn import metrics\n",
    "from sklearn.model_selection import train_test_split, GridSearchCV, KFold, cross_val_score\n",
    "from sklearn.linear_model import Lasso, LinearRegression\n",
    "from sklearn.tree import DecisionTreeRegressor\n",
    "from sklearn.metrics import r2_score, mean_squared_error, confusion_matrix, accuracy_score, precision_score, recall_score\n",
    "from sklearn.ensemble import RandomForestRegressor\n",
    "from sklearn.svm import SVR\n",
    "from sklearn.metrics.pairwise import linear_kernel, polynomial_kernel, rbf_kernel\n",
    "from sklearn.preprocessing import LabelEncoder\n",
    "from imblearn.over_sampling import SMOTE\n",
    "from sklearn.tree import DecisionTreeClassifier\n",
    "from sklearn.linear_model import LogisticRegression\n",
    "from sklearn.ensemble import RandomForestClassifier\n",
    "import warnings\n",
    "warnings.filterwarnings('ignore')"
   ]
  },
  {
   "cell_type": "markdown",
   "metadata": {},
   "source": [
    "### <font color= 'blue'> Regresión </font> \n",
    "<font color= 'teal'> 1. **Definición del problema**. </font>\n",
    "\n",
    "La base de datos con la que se trabajará analiza la energía utilizada en $12$ diferentes construcciones simuladas en la empresa *Ecotect*. Las construcciones difieren respecto al área de acristalamiento (proceso que genera hojas de vidrio u otro material transparente realizadas para ser colocadas en marcos como puertas, ventanas, espejos, etc.), su distribución, orientación, entre otros parámetros. Se simulan varios aspectos de las características mencionadas para obtener $768$ construcciones. El conjunto de datos presenta las $768$ muestras y $8$ características, también llamadas variables o *features*, con el objetivo de predecir dos variables; los requisitos de carga de calefacción y carga de refrigeración de los edificios. Los datos se obtuvieron de [archive.ics.uci.edu](http://archive.ics.uci.edu/ml/datasets/Energy+efficiency#).\n",
    "\n",
    "**Variables:**\n",
    "+ $X_1$ $\\rightarrow$ Relative Compactness\n",
    "+ $X_2$ $\\rightarrow$ Surface Area\n",
    "+ $X_3$ $\\rightarrow$ Wall Area\n",
    "+ $X_4$ $\\rightarrow$ Roof Area\n",
    "+ $X_5$ $\\rightarrow$ Overall Height\n",
    "+ $X_6$ $\\rightarrow$ Orientation\n",
    "+ $X_7$ $\\rightarrow$ Glazing Area\n",
    "+ $X_8$ $\\rightarrow$ Glazing Area Distribution\n",
    "+ $y_1$ $\\rightarrow$ Heating Load\n",
    "+ $y_2$ $\\rightarrow$ Cooling Load\n",
    "\n",
    "Para poder visualizar los datos a través del código posterior, es importante tener el archivo tipo `csv` (adjunto) en el mismo entorno virtual que este *Jupyter Notebook*, en caso contrario será necesario especificar la dirección en donde se encuentra dicho documento. Si se prefiere, los datos pueden ser descargados directamente desde la página mencionada ([archive.ics.uci.edu](http://archive.ics.uci.edu/ml/datasets/Energy+efficiency#)) pero deberá cambiarse el código por `pd.read_excel()` en lugar de `pd.read_csv`, ya que se descarga como un archivo de MS Excel (`xslx`).\n",
    "\n",
    "<font color= 'teal'> 2. **Preparación de datos**. </font> <br>"
   ]
  },
  {
   "cell_type": "code",
   "execution_count": 2,
   "metadata": {},
   "outputs": [
    {
     "data": {
      "text/html": [
       "<div>\n",
       "<style scoped>\n",
       "    .dataframe tbody tr th:only-of-type {\n",
       "        vertical-align: middle;\n",
       "    }\n",
       "\n",
       "    .dataframe tbody tr th {\n",
       "        vertical-align: top;\n",
       "    }\n",
       "\n",
       "    .dataframe thead th {\n",
       "        text-align: right;\n",
       "    }\n",
       "</style>\n",
       "<table border=\"1\" class=\"dataframe\">\n",
       "  <thead>\n",
       "    <tr style=\"text-align: right;\">\n",
       "      <th></th>\n",
       "      <th>X1</th>\n",
       "      <th>X2</th>\n",
       "      <th>X3</th>\n",
       "      <th>X4</th>\n",
       "      <th>X5</th>\n",
       "      <th>X6</th>\n",
       "      <th>X7</th>\n",
       "      <th>X8</th>\n",
       "      <th>Y1</th>\n",
       "      <th>Y2</th>\n",
       "    </tr>\n",
       "  </thead>\n",
       "  <tbody>\n",
       "    <tr>\n",
       "      <th>0</th>\n",
       "      <td>0.98</td>\n",
       "      <td>514.5</td>\n",
       "      <td>294.0</td>\n",
       "      <td>110.25</td>\n",
       "      <td>7.0</td>\n",
       "      <td>2</td>\n",
       "      <td>0.0</td>\n",
       "      <td>0</td>\n",
       "      <td>15.55</td>\n",
       "      <td>21.33</td>\n",
       "    </tr>\n",
       "    <tr>\n",
       "      <th>1</th>\n",
       "      <td>0.98</td>\n",
       "      <td>514.5</td>\n",
       "      <td>294.0</td>\n",
       "      <td>110.25</td>\n",
       "      <td>7.0</td>\n",
       "      <td>3</td>\n",
       "      <td>0.0</td>\n",
       "      <td>0</td>\n",
       "      <td>15.55</td>\n",
       "      <td>21.33</td>\n",
       "    </tr>\n",
       "    <tr>\n",
       "      <th>2</th>\n",
       "      <td>0.98</td>\n",
       "      <td>514.5</td>\n",
       "      <td>294.0</td>\n",
       "      <td>110.25</td>\n",
       "      <td>7.0</td>\n",
       "      <td>4</td>\n",
       "      <td>0.0</td>\n",
       "      <td>0</td>\n",
       "      <td>15.55</td>\n",
       "      <td>21.33</td>\n",
       "    </tr>\n",
       "    <tr>\n",
       "      <th>3</th>\n",
       "      <td>0.98</td>\n",
       "      <td>514.5</td>\n",
       "      <td>294.0</td>\n",
       "      <td>110.25</td>\n",
       "      <td>7.0</td>\n",
       "      <td>5</td>\n",
       "      <td>0.0</td>\n",
       "      <td>0</td>\n",
       "      <td>15.55</td>\n",
       "      <td>21.33</td>\n",
       "    </tr>\n",
       "    <tr>\n",
       "      <th>4</th>\n",
       "      <td>0.90</td>\n",
       "      <td>563.5</td>\n",
       "      <td>318.5</td>\n",
       "      <td>122.50</td>\n",
       "      <td>7.0</td>\n",
       "      <td>2</td>\n",
       "      <td>0.0</td>\n",
       "      <td>0</td>\n",
       "      <td>20.84</td>\n",
       "      <td>28.28</td>\n",
       "    </tr>\n",
       "  </tbody>\n",
       "</table>\n",
       "</div>"
      ],
      "text/plain": [
       "     X1     X2     X3      X4   X5  X6   X7  X8     Y1     Y2\n",
       "0  0.98  514.5  294.0  110.25  7.0   2  0.0   0  15.55  21.33\n",
       "1  0.98  514.5  294.0  110.25  7.0   3  0.0   0  15.55  21.33\n",
       "2  0.98  514.5  294.0  110.25  7.0   4  0.0   0  15.55  21.33\n",
       "3  0.98  514.5  294.0  110.25  7.0   5  0.0   0  15.55  21.33\n",
       "4  0.90  563.5  318.5  122.50  7.0   2  0.0   0  20.84  28.28"
      ]
     },
     "execution_count": 2,
     "metadata": {},
     "output_type": "execute_result"
    }
   ],
   "source": [
    "# Importar datos\n",
    "data = pd.read_csv('Energy_Efficiency.csv')\n",
    "data.head()"
   ]
  },
  {
   "cell_type": "markdown",
   "metadata": {},
   "source": [
    "Debido al objetivo de este proyecto, únicamente se predecirá una variable. En este caso, será $y_1$, la cual representa la carga de calefacción necesaria de los edificios."
   ]
  },
  {
   "cell_type": "code",
   "execution_count": 3,
   "metadata": {},
   "outputs": [],
   "source": [
    "# Eliminar la columna que no se utilizará\n",
    "data.drop('Y2', axis= 1, inplace= True)"
   ]
  },
  {
   "cell_type": "code",
   "execution_count": 4,
   "metadata": {},
   "outputs": [
    {
     "data": {
      "text/html": [
       "<div>\n",
       "<style scoped>\n",
       "    .dataframe tbody tr th:only-of-type {\n",
       "        vertical-align: middle;\n",
       "    }\n",
       "\n",
       "    .dataframe tbody tr th {\n",
       "        vertical-align: top;\n",
       "    }\n",
       "\n",
       "    .dataframe thead th {\n",
       "        text-align: right;\n",
       "    }\n",
       "</style>\n",
       "<table border=\"1\" class=\"dataframe\">\n",
       "  <thead>\n",
       "    <tr style=\"text-align: right;\">\n",
       "      <th></th>\n",
       "      <th>relative_compactness</th>\n",
       "      <th>surface_area</th>\n",
       "      <th>wall_area</th>\n",
       "      <th>roof_area</th>\n",
       "      <th>overall_height</th>\n",
       "      <th>orientation</th>\n",
       "      <th>glazing_area</th>\n",
       "      <th>glazing_area_distribution</th>\n",
       "      <th>heating_load</th>\n",
       "    </tr>\n",
       "  </thead>\n",
       "  <tbody>\n",
       "    <tr>\n",
       "      <th>0</th>\n",
       "      <td>0.98</td>\n",
       "      <td>514.5</td>\n",
       "      <td>294.0</td>\n",
       "      <td>110.25</td>\n",
       "      <td>7.0</td>\n",
       "      <td>2</td>\n",
       "      <td>0.0</td>\n",
       "      <td>0</td>\n",
       "      <td>15.55</td>\n",
       "    </tr>\n",
       "    <tr>\n",
       "      <th>1</th>\n",
       "      <td>0.98</td>\n",
       "      <td>514.5</td>\n",
       "      <td>294.0</td>\n",
       "      <td>110.25</td>\n",
       "      <td>7.0</td>\n",
       "      <td>3</td>\n",
       "      <td>0.0</td>\n",
       "      <td>0</td>\n",
       "      <td>15.55</td>\n",
       "    </tr>\n",
       "    <tr>\n",
       "      <th>2</th>\n",
       "      <td>0.98</td>\n",
       "      <td>514.5</td>\n",
       "      <td>294.0</td>\n",
       "      <td>110.25</td>\n",
       "      <td>7.0</td>\n",
       "      <td>4</td>\n",
       "      <td>0.0</td>\n",
       "      <td>0</td>\n",
       "      <td>15.55</td>\n",
       "    </tr>\n",
       "    <tr>\n",
       "      <th>3</th>\n",
       "      <td>0.98</td>\n",
       "      <td>514.5</td>\n",
       "      <td>294.0</td>\n",
       "      <td>110.25</td>\n",
       "      <td>7.0</td>\n",
       "      <td>5</td>\n",
       "      <td>0.0</td>\n",
       "      <td>0</td>\n",
       "      <td>15.55</td>\n",
       "    </tr>\n",
       "    <tr>\n",
       "      <th>4</th>\n",
       "      <td>0.90</td>\n",
       "      <td>563.5</td>\n",
       "      <td>318.5</td>\n",
       "      <td>122.50</td>\n",
       "      <td>7.0</td>\n",
       "      <td>2</td>\n",
       "      <td>0.0</td>\n",
       "      <td>0</td>\n",
       "      <td>20.84</td>\n",
       "    </tr>\n",
       "  </tbody>\n",
       "</table>\n",
       "</div>"
      ],
      "text/plain": [
       "   relative_compactness  surface_area  wall_area  roof_area  overall_height  \\\n",
       "0                  0.98         514.5      294.0     110.25             7.0   \n",
       "1                  0.98         514.5      294.0     110.25             7.0   \n",
       "2                  0.98         514.5      294.0     110.25             7.0   \n",
       "3                  0.98         514.5      294.0     110.25             7.0   \n",
       "4                  0.90         563.5      318.5     122.50             7.0   \n",
       "\n",
       "   orientation  glazing_area  glazing_area_distribution  heating_load  \n",
       "0            2           0.0                          0         15.55  \n",
       "1            3           0.0                          0         15.55  \n",
       "2            4           0.0                          0         15.55  \n",
       "3            5           0.0                          0         15.55  \n",
       "4            2           0.0                          0         20.84  "
      ]
     },
     "execution_count": 4,
     "metadata": {},
     "output_type": "execute_result"
    }
   ],
   "source": [
    "# Renombrar las columnas para saber cuál es cada una\n",
    "nombres= ['relative_compactness', 'surface_area', 'wall_area', 'roof_area', 'overall_height', 'orientation', 'glazing_area',\n",
    "'glazing_area_distribution', 'heating_load']\n",
    "data.columns= nombres\n",
    "data.head()"
   ]
  },
  {
   "cell_type": "code",
   "execution_count": 5,
   "metadata": {},
   "outputs": [
    {
     "name": "stdout",
     "output_type": "stream",
     "text": [
      "+ Tipo: \n",
      " <class 'pandas.core.frame.DataFrame'>\n",
      "\n",
      "+ Dimensión de los datos: \n",
      " (768, 9)\n",
      "\n",
      "+ Tipo de datos por columna: \n",
      "relative_compactness         float64\n",
      "surface_area                 float64\n",
      "wall_area                    float64\n",
      "roof_area                    float64\n",
      "overall_height               float64\n",
      "orientation                    int64\n",
      "glazing_area                 float64\n",
      "glazing_area_distribution      int64\n",
      "heating_load                 float64\n",
      "dtype: object\n",
      "\n",
      "+ Cantidad de nulos por columna: \n",
      "relative_compactness         0\n",
      "surface_area                 0\n",
      "wall_area                    0\n",
      "roof_area                    0\n",
      "overall_height               0\n",
      "orientation                  0\n",
      "glazing_area                 0\n",
      "glazing_area_distribution    0\n",
      "heating_load                 0\n",
      "dtype: int64\n",
      "\n",
      "+ Valores únicos por columna: \n",
      "relative_compactness          12\n",
      "surface_area                  12\n",
      "wall_area                      7\n",
      "roof_area                      4\n",
      "overall_height                 2\n",
      "orientation                    4\n",
      "glazing_area                   4\n",
      "glazing_area_distribution      6\n",
      "heating_load                 586\n",
      "dtype: int64\n"
     ]
    }
   ],
   "source": [
    "# Conocer los datos\n",
    "\n",
    "# Se guardan los datos como un DataFrame de pandas\n",
    "print(f'+ Tipo: \\n {type(data)}')\n",
    "\n",
    "# El tamaño de los datos se visualiza en una tupla; primero la cantidad de filas y después el número de columnas\n",
    "print(f'\\n+ Dimensión de los datos: \\n {data.shape}')\n",
    "\n",
    "# Tipo de cada variable\n",
    "print(f'\\n+ Tipo de datos por columna: \\n{data.dtypes}')\n",
    "\n",
    "# Conteo de valores nulos\n",
    "print(f'\\n+ Cantidad de nulos por columna: \\n{data.isnull().sum()}')\n",
    "\n",
    "# Valores únicos\n",
    "print(f'\\n+ Valores únicos por columna: \\n{data.nunique()}')"
   ]
  },
  {
   "cell_type": "code",
   "execution_count": 6,
   "metadata": {},
   "outputs": [
    {
     "name": "stdout",
     "output_type": "stream",
     "text": [
      "<class 'pandas.core.frame.DataFrame'>\n",
      "RangeIndex: 768 entries, 0 to 767\n",
      "Data columns (total 9 columns):\n",
      " #   Column                     Non-Null Count  Dtype  \n",
      "---  ------                     --------------  -----  \n",
      " 0   relative_compactness       768 non-null    float64\n",
      " 1   surface_area               768 non-null    float64\n",
      " 2   wall_area                  768 non-null    float64\n",
      " 3   roof_area                  768 non-null    float64\n",
      " 4   overall_height             768 non-null    float64\n",
      " 5   orientation                768 non-null    int64  \n",
      " 6   glazing_area               768 non-null    float64\n",
      " 7   glazing_area_distribution  768 non-null    int64  \n",
      " 8   heating_load               768 non-null    float64\n",
      "dtypes: float64(7), int64(2)\n",
      "memory usage: 54.1 KB\n"
     ]
    }
   ],
   "source": [
    "# Resumen de lo anterior\n",
    "data.info()"
   ]
  },
  {
   "cell_type": "code",
   "execution_count": 7,
   "metadata": {},
   "outputs": [
    {
     "data": {
      "image/png": "[encoded data removed]",
      "text/plain": [
       "<Figure size 720x720 with 9 Axes>"
      ]
     },
     "metadata": {
      "needs_background": "light"
     },
     "output_type": "display_data"
    }
   ],
   "source": [
    "# Ver la distribución de las variables\n",
    "data.hist(color= 'teal', alpha= 0.7, bins= 10, figsize= (10, 10))\n",
    "plt.show()"
   ]
  },
  {
   "cell_type": "markdown",
   "metadata": {},
   "source": [
    "A través de los histogramas, se puede observar que las variables tienen dimensiones muy distintas entre sí, por lo que será necesario escalar los datos mediante el `MinMaxScaler` para tener obtener la información dentro de un mismo rango $[0,1]$. Antes de ello, se hará un `Train-Test Split` para no tener *leakage* de datos, es decir, para separar los datos de entrenamiento respecto a los de respuesta. Además, se puede observar que los datos no están tan imbalanceados, se considerá que podrá ser más perjudical hacer un sobremuestro o submestreo que dejarlos como están."
   ]
  },
  {
   "cell_type": "code",
   "execution_count": 8,
   "metadata": {},
   "outputs": [
    {
     "name": "stdout",
     "output_type": "stream",
     "text": [
      "Predictoras:\n",
      " ['relative_compactness', 'surface_area', 'wall_area', 'roof_area', 'overall_height', 'orientation', 'glazing_area', 'glazing_area_distribution'] \n",
      "\n",
      "Obetivo:\n",
      " ['heating_load']\n"
     ]
    }
   ],
   "source": [
    "# Identificar las variables predictoras y las objetivo\n",
    "respuesta= ['heating_load']\n",
    "predictoras= [c for c in data.columns if c not in respuesta]\n",
    "print(f'Predictoras:\\n {predictoras} \\n\\nObetivo:\\n {respuesta}')"
   ]
  },
  {
   "cell_type": "code",
   "execution_count": 9,
   "metadata": {},
   "outputs": [
    {
     "name": "stdout",
     "output_type": "stream",
     "text": [
      "Tamaño de DataFrame original: (768, 9)\n",
      "Tamaño de X entrenamiento: (537, 8)\n",
      "Tamaño de X prueba:: (231, 8)\n",
      "Tamaño de y entrenamiento: (537, 1)\n",
      "Tamaño de y prueba: (231, 1)\n",
      "Tamaño de Train: (537, 9)\n",
      "Tamaño de Test: (231, 9)\n"
     ]
    }
   ],
   "source": [
    "# Dividir los datos en dos grupos; 70% de entrenamiento y 30% para prueba\n",
    "X_train, X_test, y_train, y_test = train_test_split(data[predictoras], data[respuesta], test_size=0.3)\n",
    "\n",
    "# Merge entre predictores y la respuesta\n",
    "train= pd.merge(X_train, y_train, left_index= True, right_index= True)\n",
    "test= pd.merge(X_test, y_test, left_index= True, right_index= True)\n",
    "print(f'Tamaño de DataFrame original: {data.shape}')\n",
    "print(f'Tamaño de X entrenamiento: {X_train.shape}')\n",
    "print(f'Tamaño de X prueba:: {X_test.shape}')\n",
    "print(f'Tamaño de y entrenamiento: {y_train.shape}')\n",
    "print(f'Tamaño de y prueba: {y_test.shape}')\n",
    "print(f'Tamaño de Train: {train.shape}')\n",
    "print(f'Tamaño de Test: {test.shape}')"
   ]
  },
  {
   "cell_type": "code",
   "execution_count": 10,
   "metadata": {},
   "outputs": [
    {
     "data": {
      "text/html": [
       "<div>\n",
       "<style scoped>\n",
       "    .dataframe tbody tr th:only-of-type {\n",
       "        vertical-align: middle;\n",
       "    }\n",
       "\n",
       "    .dataframe tbody tr th {\n",
       "        vertical-align: top;\n",
       "    }\n",
       "\n",
       "    .dataframe thead th {\n",
       "        text-align: right;\n",
       "    }\n",
       "</style>\n",
       "<table border=\"1\" class=\"dataframe\">\n",
       "  <thead>\n",
       "    <tr style=\"text-align: right;\">\n",
       "      <th></th>\n",
       "      <th>relative_compactness</th>\n",
       "      <th>surface_area</th>\n",
       "      <th>wall_area</th>\n",
       "      <th>roof_area</th>\n",
       "      <th>overall_height</th>\n",
       "      <th>orientation</th>\n",
       "      <th>glazing_area</th>\n",
       "      <th>glazing_area_distribution</th>\n",
       "    </tr>\n",
       "  </thead>\n",
       "  <tbody>\n",
       "    <tr>\n",
       "      <th>0</th>\n",
       "      <td>0.666667</td>\n",
       "      <td>0.250000</td>\n",
       "      <td>0.285714</td>\n",
       "      <td>0.333333</td>\n",
       "      <td>1.0</td>\n",
       "      <td>1.000000</td>\n",
       "      <td>1.000</td>\n",
       "      <td>0.8</td>\n",
       "    </tr>\n",
       "    <tr>\n",
       "      <th>1</th>\n",
       "      <td>0.055556</td>\n",
       "      <td>0.916667</td>\n",
       "      <td>0.571429</td>\n",
       "      <td>1.000000</td>\n",
       "      <td>0.0</td>\n",
       "      <td>1.000000</td>\n",
       "      <td>0.625</td>\n",
       "      <td>0.8</td>\n",
       "    </tr>\n",
       "    <tr>\n",
       "      <th>2</th>\n",
       "      <td>0.111111</td>\n",
       "      <td>0.833333</td>\n",
       "      <td>0.428571</td>\n",
       "      <td>1.000000</td>\n",
       "      <td>0.0</td>\n",
       "      <td>0.000000</td>\n",
       "      <td>0.250</td>\n",
       "      <td>0.2</td>\n",
       "    </tr>\n",
       "    <tr>\n",
       "      <th>3</th>\n",
       "      <td>0.000000</td>\n",
       "      <td>1.000000</td>\n",
       "      <td>0.714286</td>\n",
       "      <td>1.000000</td>\n",
       "      <td>0.0</td>\n",
       "      <td>0.333333</td>\n",
       "      <td>1.000</td>\n",
       "      <td>0.8</td>\n",
       "    </tr>\n",
       "    <tr>\n",
       "      <th>4</th>\n",
       "      <td>0.333333</td>\n",
       "      <td>0.583333</td>\n",
       "      <td>0.000000</td>\n",
       "      <td>1.000000</td>\n",
       "      <td>0.0</td>\n",
       "      <td>1.000000</td>\n",
       "      <td>1.000</td>\n",
       "      <td>0.6</td>\n",
       "    </tr>\n",
       "  </tbody>\n",
       "</table>\n",
       "</div>"
      ],
      "text/plain": [
       "   relative_compactness  surface_area  wall_area  roof_area  overall_height  \\\n",
       "0              0.666667      0.250000   0.285714   0.333333             1.0   \n",
       "1              0.055556      0.916667   0.571429   1.000000             0.0   \n",
       "2              0.111111      0.833333   0.428571   1.000000             0.0   \n",
       "3              0.000000      1.000000   0.714286   1.000000             0.0   \n",
       "4              0.333333      0.583333   0.000000   1.000000             0.0   \n",
       "\n",
       "   orientation  glazing_area  glazing_area_distribution  \n",
       "0     1.000000         1.000                        0.8  \n",
       "1     1.000000         0.625                        0.8  \n",
       "2     0.000000         0.250                        0.2  \n",
       "3     0.333333         1.000                        0.8  \n",
       "4     1.000000         1.000                        0.6  "
      ]
     },
     "execution_count": 10,
     "metadata": {},
     "output_type": "execute_result"
    }
   ],
   "source": [
    "# Escalar datos\n",
    "scaler= preprocessing.MinMaxScaler()\n",
    "d= scaler.fit_transform(X_train)\n",
    "scaled_df= pd.DataFrame(d, columns= predictoras)\n",
    "scaled_df.head()"
   ]
  },
  {
   "cell_type": "markdown",
   "metadata": {},
   "source": [
    "Observar que, después del escalamiento, la distribución no cambia."
   ]
  },
  {
   "cell_type": "code",
   "execution_count": 11,
   "metadata": {
    "scrolled": true
   },
   "outputs": [
    {
     "data": {
      "image/png": "[encoded data removed]",
      "text/plain": [
       "<Figure size 432x288 with 2 Axes>"
      ]
     },
     "metadata": {
      "needs_background": "light"
     },
     "output_type": "display_data"
    },
    {
     "data": {
      "image/png": "[encoded data removed]",
      "text/plain": [
       "<Figure size 432x288 with 2 Axes>"
      ]
     },
     "metadata": {
      "needs_background": "light"
     },
     "output_type": "display_data"
    },
    {
     "data": {
      "image/png": "[encoded data removed]",
      "text/plain": [
       "<Figure size 432x288 with 2 Axes>"
      ]
     },
     "metadata": {
      "needs_background": "light"
     },
     "output_type": "display_data"
    },
    {
     "data": {
      "image/png": "[encoded data removed]",
      "text/plain": [
       "<Figure size 432x288 with 2 Axes>"
      ]
     },
     "metadata": {
      "needs_background": "light"
     },
     "output_type": "display_data"
    },
    {
     "data": {
      "image/png": "[encoded data removed]",
      "text/plain": [
       "<Figure size 432x288 with 2 Axes>"
      ]
     },
     "metadata": {
      "needs_background": "light"
     },
     "output_type": "display_data"
    },
    {
     "data": {
      "image/png": "[encoded data removed]",
      "text/plain": [
       "<Figure size 432x288 with 2 Axes>"
      ]
     },
     "metadata": {
      "needs_background": "light"
     },
     "output_type": "display_data"
    },
    {
     "data": {
      "image/png": "[encoded data removed]",
      "text/plain": [
       "<Figure size 432x288 with 2 Axes>"
      ]
     },
     "metadata": {
      "needs_background": "light"
     },
     "output_type": "display_data"
    },
    {
     "data": {
      "image/png": "[encoded data removed]",
      "text/plain": [
       "<Figure size 432x288 with 2 Axes>"
      ]
     },
     "metadata": {
      "needs_background": "light"
     },
     "output_type": "display_data"
    }
   ],
   "source": [
    "# Graficar variable original vs. variable escalada por minmax\n",
    "for col in X_train.columns:\n",
    "    fig, ax = plt.subplots(nrows=1, ncols=2, sharey= True)\n",
    "    X_train[col].plot(kind= 'hist', ax=ax[0],\n",
    "                      color= 'blue',\n",
    "                      alpha= 0.7,\n",
    "                      title= 'Datos Originales',\n",
    "                      rot=90)\n",
    "    scaled_df[col].plot(kind='hist',\n",
    "                        ax=ax[1],\n",
    "                        color='green',\n",
    "                        alpha=0.7,\n",
    "                        title='Datos Escalados',\n",
    "                        rot=90)\n",
    "    fig.suptitle(f'Variable: {col}')"
   ]
  },
  {
   "cell_type": "markdown",
   "metadata": {},
   "source": [
    "La variable $Y_1 \\rightarrow \\text{heating_load}$ tiene sesgo a la derecha, por lo que se hará una `log transformación`."
   ]
  },
  {
   "cell_type": "code",
   "execution_count": 12,
   "metadata": {},
   "outputs": [
    {
     "data": {
      "image/png": "[encoded data removed]",
      "text/plain": [
       "<Figure size 432x288 with 1 Axes>"
      ]
     },
     "metadata": {
      "needs_background": "light"
     },
     "output_type": "display_data"
    }
   ],
   "source": [
    "# Original\n",
    "y_train.hist(bins= 30, color= 'darkblue')\n",
    "plt.show()"
   ]
  },
  {
   "cell_type": "code",
   "execution_count": 13,
   "metadata": {},
   "outputs": [
    {
     "data": {
      "image/png": "[encoded data removed]",
      "text/plain": [
       "<Figure size 432x288 with 1 Axes>"
      ]
     },
     "metadata": {
      "needs_background": "light"
     },
     "output_type": "display_data"
    }
   ],
   "source": [
    "# Con transformación\n",
    "y_log= np.log(y_train) # Obtener su logaritmo natural\n",
    "y_log.hist(bins= 30, color= 'darkblue')\n",
    "plt.show()"
   ]
  },
  {
   "cell_type": "markdown",
   "metadata": {},
   "source": [
    "Una vez que los datos están escalados, se hará una selección de variables a través de la varianza."
   ]
  },
  {
   "cell_type": "code",
   "execution_count": 14,
   "metadata": {},
   "outputs": [
    {
     "data": {
      "image/png": "[encoded data removed]",
      "text/plain": [
       "<Figure size 720x576 with 1 Axes>"
      ]
     },
     "metadata": {
      "needs_background": "light"
     },
     "output_type": "display_data"
    }
   ],
   "source": [
    "# Varianza por variable\n",
    "varianzas= pd.DataFrame(scaled_df.var().sort_values(), columns= ['Varianza'])\n",
    "\n",
    "def addlabels(x,y):\n",
    "    for i in range(len(x)):\n",
    "        plt.text(i, round(y[i], 3), round(y[i], 3))\n",
    "\n",
    "fig= plt.figure(figsize= (10, 8))\n",
    "plt.bar(np.arange(len(varianzas)), varianzas.Varianza, color= 'teal', alpha= 0.6, edgecolor= 'blue')\n",
    "plt.ylabel('Varianza', fontsize= 15)\n",
    "plt.xticks(np.arange(len(varianzas)),varianzas.index, rotation= 90)\n",
    "addlabels(np.arange(len(varianzas)), varianzas.Varianza)\n",
    "plt.axhline(0.1, linestyle= '--', c= 'r')\n",
    "plt.tight_layout()\n",
    "plt.show()"
   ]
  },
  {
   "cell_type": "markdown",
   "metadata": {},
   "source": [
    "Visualizando las varianzas de cada variable en la gráfica, si se decidiera hacer una selección de campos a través de este método, considerando el límite $0.10$ entonces las variables seleccionadas serían:\n",
    "1. `overall_height`\n",
    "2. `roof_area`\n",
    "3. `orientation`\n",
    "4. `glazing_area`"
   ]
  },
  {
   "cell_type": "markdown",
   "metadata": {},
   "source": [
    "Se confirmarán dichas variables utilizando otro método de selección; Lasso."
   ]
  },
  {
   "cell_type": "code",
   "execution_count": 15,
   "metadata": {},
   "outputs": [
    {
     "name": "stdout",
     "output_type": "stream",
     "text": [
      "Coeficientes: [0.         0.00355331 0.00541259 0.00100652 0.         0.\n",
      " 0.         0.        ] \n",
      "Columnas: Index(['relative_compactness', 'surface_area', 'wall_area', 'roof_area',\n",
      "       'overall_height', 'orientation', 'glazing_area',\n",
      "       'glazing_area_distribution'],\n",
      "      dtype='object')\n"
     ]
    }
   ],
   "source": [
    "lasso_model= Lasso(alpha= 1, random_state= 7)\n",
    "lasso_model.fit(X_train, y_log)\n",
    "coefs_= abs(lasso_model.coef_)\n",
    "print(f'Coeficientes: {coefs_} \\nColumnas: {X_train.columns}')"
   ]
  },
  {
   "cell_type": "markdown",
   "metadata": {},
   "source": [
    "Dado que Lasso hace $0$ aquellas variables que no tienen mucha relación con las de respuesta, los *features* seleccionads a través de Lasso serían:\n",
    "1. `wall_area`\n",
    "2. `surface_area`\n",
    "3. `roof_area`"
   ]
  },
  {
   "cell_type": "markdown",
   "metadata": {},
   "source": [
    "Entre los dos, se eligirían:\n",
    "+ `wall_area`\n",
    "+ `surface_area`\n",
    "+ `roof_area`\n",
    "+ `overall_height`\n",
    "+ `orientation`\n",
    "+ `glazing_area`\n",
    "\n",
    "\n",
    "Es decir, todas excepto `relative_compactness` y `glazing_area_distribution`. Aún así, esto se reconsiderará según los resultados del modelo de Árbol de Decisión. Se recomienda no basarse en un solo método para hacer selección de variables."
   ]
  },
  {
   "cell_type": "code",
   "execution_count": 16,
   "metadata": {},
   "outputs": [
    {
     "data": {
      "text/html": [
       "<div>\n",
       "<style scoped>\n",
       "    .dataframe tbody tr th:only-of-type {\n",
       "        vertical-align: middle;\n",
       "    }\n",
       "\n",
       "    .dataframe tbody tr th {\n",
       "        vertical-align: top;\n",
       "    }\n",
       "\n",
       "    .dataframe thead th {\n",
       "        text-align: right;\n",
       "    }\n",
       "</style>\n",
       "<table border=\"1\" class=\"dataframe\">\n",
       "  <thead>\n",
       "    <tr style=\"text-align: right;\">\n",
       "      <th></th>\n",
       "      <th>value</th>\n",
       "      <th>skewness</th>\n",
       "    </tr>\n",
       "  </thead>\n",
       "  <tbody>\n",
       "    <tr>\n",
       "      <th>relative_compactness</th>\n",
       "      <td>0.43</td>\n",
       "      <td>Symmetric distribution</td>\n",
       "    </tr>\n",
       "    <tr>\n",
       "      <th>surface_area</th>\n",
       "      <td>-0.07</td>\n",
       "      <td>Symmetric distribution</td>\n",
       "    </tr>\n",
       "    <tr>\n",
       "      <th>wall_area</th>\n",
       "      <td>0.53</td>\n",
       "      <td>Moderately skewed</td>\n",
       "    </tr>\n",
       "    <tr>\n",
       "      <th>roof_area</th>\n",
       "      <td>-0.12</td>\n",
       "      <td>Symmetric distribution</td>\n",
       "    </tr>\n",
       "    <tr>\n",
       "      <th>overall_height</th>\n",
       "      <td>-0.05</td>\n",
       "      <td>Symmetric distribution</td>\n",
       "    </tr>\n",
       "    <tr>\n",
       "      <th>orientation</th>\n",
       "      <td>0.03</td>\n",
       "      <td>Symmetric distribution</td>\n",
       "    </tr>\n",
       "    <tr>\n",
       "      <th>glazing_area</th>\n",
       "      <td>-0.09</td>\n",
       "      <td>Symmetric distribution</td>\n",
       "    </tr>\n",
       "    <tr>\n",
       "      <th>glazing_area_distribution</th>\n",
       "      <td>-0.12</td>\n",
       "      <td>Symmetric distribution</td>\n",
       "    </tr>\n",
       "  </tbody>\n",
       "</table>\n",
       "</div>"
      ],
      "text/plain": [
       "                           value                skewness\n",
       "relative_compactness        0.43  Symmetric distribution\n",
       "surface_area               -0.07  Symmetric distribution\n",
       "wall_area                   0.53       Moderately skewed\n",
       "roof_area                  -0.12  Symmetric distribution\n",
       "overall_height             -0.05  Symmetric distribution\n",
       "orientation                 0.03  Symmetric distribution\n",
       "glazing_area               -0.09  Symmetric distribution\n",
       "glazing_area_distribution  -0.12  Symmetric distribution"
      ]
     },
     "execution_count": 16,
     "metadata": {},
     "output_type": "execute_result"
    }
   ],
   "source": [
    "# Conocer la asimetría de cada variable\n",
    "asimetria= round(X_train.skew(), 2)\n",
    "asimetria= asimetria.to_frame()\n",
    "asimetria= asimetria.rename(columns= {0: \"value\"}) \n",
    "def f(x):\n",
    "    if x['value'] < -1 or x['value'] > 1: return 'Highly Skewed'\n",
    "    elif (x['value']<=0 and x['value']>= -0.5) or (x['value'] >= 0 and x['value']<= 0.5):\n",
    "        return 'Symmetric distribution'\n",
    "    else: \n",
    "        return 'Moderately skewed'\n",
    "asimetria['skewness'] = asimetria.apply(f, axis=1)\n",
    "asimetria"
   ]
  },
  {
   "cell_type": "code",
   "execution_count": 17,
   "metadata": {},
   "outputs": [
    {
     "data": {
      "image/png": "[encoded data removed]",
      "text/plain": [
       "<Figure size 432x288 with 1 Axes>"
      ]
     },
     "metadata": {
      "needs_background": "light"
     },
     "output_type": "display_data"
    },
    {
     "data": {
      "image/png": "[encoded data removed]",
      "text/plain": [
       "<Figure size 432x288 with 1 Axes>"
      ]
     },
     "metadata": {
      "needs_background": "light"
     },
     "output_type": "display_data"
    },
    {
     "data": {
      "image/png": "[encoded data removed]",
      "text/plain": [
       "<Figure size 432x288 with 1 Axes>"
      ]
     },
     "metadata": {
      "needs_background": "light"
     },
     "output_type": "display_data"
    },
    {
     "data": {
      "image/png": "[encoded data removed]",
      "text/plain": [
       "<Figure size 432x288 with 1 Axes>"
      ]
     },
     "metadata": {
      "needs_background": "light"
     },
     "output_type": "display_data"
    },
    {
     "data": {
      "image/png": "[encoded data removed]",
      "text/plain": [
       "<Figure size 432x288 with 1 Axes>"
      ]
     },
     "metadata": {
      "needs_background": "light"
     },
     "output_type": "display_data"
    },
    {
     "data": {
      "image/png": "[encoded data removed]",
      "text/plain": [
       "<Figure size 432x288 with 1 Axes>"
      ]
     },
     "metadata": {
      "needs_background": "light"
     },
     "output_type": "display_data"
    },
    {
     "data": {
      "image/png": "[encoded data removed]",
      "text/plain": [
       "<Figure size 432x288 with 1 Axes>"
      ]
     },
     "metadata": {
      "needs_background": "light"
     },
     "output_type": "display_data"
    },
    {
     "data": {
      "image/png": "[encoded data removed]",
      "text/plain": [
       "<Figure size 432x288 with 1 Axes>"
      ]
     },
     "metadata": {
      "needs_background": "light"
     },
     "output_type": "display_data"
    }
   ],
   "source": [
    "# Identificar valores atípicos\n",
    "Q1= X_train.quantile(0.25)   # Primer cuantil\n",
    "Q3= X_train.quantile(0.75)   # Tercer cuantil\n",
    "iqr= Q3 - Q1            # Rango intercuártilico\n",
    "lim_inferior= Q1 - (1.5*iqr)\n",
    "lim_superior= Q3 + (1.5*iqr)\n",
    "\n",
    "# Visualizar diagrama de cajas y bigotes para sospechar la presencia de outliers en el dataset\n",
    "for col in X_train:\n",
    "    plt.boxplot(X_train[col])    \n",
    "    plt.axhline(lim_inferior[col], linestyle= '--')\n",
    "    plt.axhline(lim_superior[col], linestyle= '--')\n",
    "    plt.title(f'Variable: {col}')\n",
    "    plt.show()"
   ]
  },
  {
   "cell_type": "markdown",
   "metadata": {},
   "source": [
    "Debido a que las gráficas marcan los límites inferiores y superiores a partir de los cuales se considerarían *outliers*, se puede confirmar que no hay valores atípicos en las variables.\n",
    "___"
   ]
  },
  {
   "cell_type": "markdown",
   "metadata": {},
   "source": [
    "<font color= 'teal'> 3. **Procesar modelo de regresión**. </font>\n",
    "\n",
    "Aplicar al menos $2$ modelos de regresión para estimar el mapeo de los datos. La intención principal es hacer una comparación del *performance* de cada modelo, incluyendo la mención de la complejidad (número de parámetros y tiempo de ejecución). De ser posible añadir un método de ajuste de hiperparámetros (*gridsearch*) para mejorar el performance del modelo."
   ]
  },
  {
   "cell_type": "markdown",
   "metadata": {},
   "source": [
    "<font color= 'darkblue'> **Primer modelo:** Árbol de Decisión. </font>"
   ]
  },
  {
   "cell_type": "code",
   "execution_count": 18,
   "metadata": {},
   "outputs": [
    {
     "name": "stdout",
     "output_type": "stream",
     "text": [
      "{'max_depth': 7, 'min_samples_split': 10}\n"
     ]
    }
   ],
   "source": [
    "# Utilizar cross validation y grid search\n",
    "model= DecisionTreeRegressor()\n",
    "gs= GridSearchCV(model,\n",
    "                 param_grid= {'max_depth': range(1, 11),\n",
    "                              'min_samples_split': range(10, 60, 10)},\n",
    "                  cv= 5,\n",
    "                  scoring= 'neg_mean_squared_error')\n",
    "gs.fit(X_train, y_train)\n",
    "print(gs.best_params_)"
   ]
  },
  {
   "cell_type": "code",
   "execution_count": 19,
   "metadata": {},
   "outputs": [
    {
     "data": {
      "text/plain": [
       "DecisionTreeRegressor(max_depth=7, min_samples_split=10)"
      ]
     },
     "execution_count": 19,
     "metadata": {},
     "output_type": "execute_result"
    }
   ],
   "source": [
    "#crear modelo usando parámetros óptimos\n",
    "new_model = DecisionTreeRegressor(max_depth= 7,\n",
    "                                  min_samples_split=10)\n",
    "new_model.fit(X_train, y_train)"
   ]
  },
  {
   "cell_type": "code",
   "execution_count": 20,
   "metadata": {},
   "outputs": [
    {
     "name": "stdout",
     "output_type": "stream",
     "text": [
      "R2: 0.9954514343687105 \n",
      "MSE: 0.48002210632551584\n"
     ]
    }
   ],
   "source": [
    "yhat= new_model.predict(X_test)\n",
    "R2_score_DT= r2_score(y_test, yhat)\n",
    "MSE_score_DT= mean_squared_error(y_test, yhat)\n",
    "print(f'R2: {R2_score_DT} \\nMSE: {MSE_score_DT}')"
   ]
  },
  {
   "cell_type": "code",
   "execution_count": 21,
   "metadata": {},
   "outputs": [
    {
     "data": {
      "text/plain": [
       "(array([1.59510646e-02, 6.76081782e-04, 9.38487160e-02, 5.78863435e-04,\n",
       "        8.00254534e-01, 7.42282834e-05, 7.57364470e-02, 1.28800652e-02]),\n",
       " Index(['relative_compactness', 'surface_area', 'wall_area', 'roof_area',\n",
       "        'overall_height', 'orientation', 'glazing_area',\n",
       "        'glazing_area_distribution'],\n",
       "       dtype='object'))"
      ]
     },
     "execution_count": 21,
     "metadata": {},
     "output_type": "execute_result"
    }
   ],
   "source": [
    "importances= new_model.feature_importances_\n",
    "importances, X_train.columns"
   ]
  },
  {
   "cell_type": "markdown",
   "metadata": {},
   "source": [
    "Se tomará este primer modelo como una verificación de la selección de variables. Debido a que `overall_height` no tiene importancia para el árbol, se descartará y se modificará la selección."
   ]
  },
  {
   "cell_type": "code",
   "execution_count": 22,
   "metadata": {},
   "outputs": [
    {
     "data": {
      "text/plain": [
       "((537, 7), (231, 7))"
      ]
     },
     "execution_count": 22,
     "metadata": {},
     "output_type": "execute_result"
    }
   ],
   "source": [
    "# Seleccionar las variables elegidas arriba\n",
    "x_train= X_train[['relative_compactness', 'surface_area', 'wall_area', 'roof_area', 'orientation', 'glazing_area', \n",
    "                  'glazing_area_distribution']]\n",
    "x_test= X_test[['relative_compactness', 'surface_area', 'wall_area', 'roof_area', 'orientation', 'glazing_area', \n",
    "                  'glazing_area_distribution']]\n",
    "x_train.shape, x_test.shape"
   ]
  },
  {
   "cell_type": "markdown",
   "metadata": {},
   "source": [
    "---"
   ]
  },
  {
   "cell_type": "markdown",
   "metadata": {},
   "source": [
    "<font color= 'darkblue'> **Segundo modelo:** Bosque Aleatorio. </font>"
   ]
  },
  {
   "cell_type": "code",
   "execution_count": 23,
   "metadata": {},
   "outputs": [],
   "source": [
    "modelo= RandomForestRegressor(n_estimators= 100,\n",
    "                              criterion= 'mse', \n",
    "                              max_depth= None,\n",
    "                              min_samples_split= 2,\n",
    "                              min_samples_leaf= 1,\n",
    "                              max_features= 'auto', \n",
    "                              bootstrap= True,\n",
    "                              oob_score= False,\n",
    "                              random_state= 0,\n",
    "                              verbose= 0)"
   ]
  },
  {
   "cell_type": "code",
   "execution_count": 24,
   "metadata": {},
   "outputs": [
    {
     "name": "stdout",
     "output_type": "stream",
     "text": [
      "R2: 0.9971061265340985\n"
     ]
    }
   ],
   "source": [
    "modelo= modelo.fit(x_train, y_train) \n",
    "y_gorro= modelo.predict(x_test)\n",
    "print(f'R2: {modelo.score(x_test, y_test)}')"
   ]
  },
  {
   "cell_type": "code",
   "execution_count": 25,
   "metadata": {},
   "outputs": [
    {
     "name": "stdout",
     "output_type": "stream",
     "text": [
      "{'max_depth': 10, 'min_samples_split': 10, 'n_estimators': 81}\n"
     ]
    }
   ],
   "source": [
    "modelo= RandomForestRegressor(criterion= 'mse',\n",
    "                               min_samples_leaf= 1,\n",
    "                               max_features= 'auto',\n",
    "                               bootstrap= True,\n",
    "                               oob_score= False,\n",
    "                               random_state= 0,\n",
    "                               verbose= 0)\n",
    "gs= GridSearchCV(modelo,\n",
    "                 param_grid= {'max_depth': range(1, 11),\n",
    "                              'min_samples_split': range(10, 60, 10),\n",
    "                              'n_estimators': range(1, 100, 10)}, \n",
    "                  cv= 2,\n",
    "                  scoring= 'neg_mean_squared_error')\n",
    "gs.fit(x_train, y_train)\n",
    "print(gs.best_params_)"
   ]
  },
  {
   "cell_type": "code",
   "execution_count": 26,
   "metadata": {},
   "outputs": [
    {
     "data": {
      "text/plain": [
       "RandomForestRegressor(max_depth=10, min_samples_split=10, n_estimators=81,\n",
       "                      random_state=0)"
      ]
     },
     "execution_count": 26,
     "metadata": {},
     "output_type": "execute_result"
    }
   ],
   "source": [
    "nuevo_modelo= RandomForestRegressor(n_estimators= 81,\n",
    "                                    criterion= 'mse',\n",
    "                                    max_depth= 10,\n",
    "                                    min_samples_split= 10,\n",
    "                                    min_samples_leaf= 1,\n",
    "                                    max_features= 'auto',\n",
    "                                    bootstrap= True,\n",
    "                                    oob_score= False,\n",
    "                                    random_state= 0,\n",
    "                                    verbose= 0)\n",
    "nuevo_modelo.fit(x_train, y_train)"
   ]
  },
  {
   "cell_type": "code",
   "execution_count": 27,
   "metadata": {},
   "outputs": [
    {
     "name": "stdout",
     "output_type": "stream",
     "text": [
      "R2: 0.9958102062568225 \n",
      "MSE: 0.4421599644148431\n"
     ]
    }
   ],
   "source": [
    "y_gorro= nuevo_modelo.predict(x_test)\n",
    "R2_score_RF= r2_score(y_test, y_gorro)\n",
    "MSE_score_RF= mean_squared_error(y_test, y_gorro)\n",
    "print(f'R2: {R2_score_RF} \\nMSE: {MSE_score_RF}')"
   ]
  },
  {
   "cell_type": "markdown",
   "metadata": {},
   "source": [
    "El modelo de árboles puede que esté sobreajustando, por lo que se revisará si utilizando otras particiones de *test-train* sucede el mismo fenómeno, o sólo pasa con esa partición."
   ]
  },
  {
   "cell_type": "code",
   "execution_count": 28,
   "metadata": {},
   "outputs": [],
   "source": [
    "new_X_train, new_X_test, new_y_train, new_y_test= train_test_split(data[predictoras], data[respuesta], \n",
    "                                                                   test_size= 0.2, random_state= 6)"
   ]
  },
  {
   "cell_type": "code",
   "execution_count": 29,
   "metadata": {},
   "outputs": [
    {
     "data": {
      "text/html": [
       "<div>\n",
       "<style scoped>\n",
       "    .dataframe tbody tr th:only-of-type {\n",
       "        vertical-align: middle;\n",
       "    }\n",
       "\n",
       "    .dataframe tbody tr th {\n",
       "        vertical-align: top;\n",
       "    }\n",
       "\n",
       "    .dataframe thead th {\n",
       "        text-align: right;\n",
       "    }\n",
       "</style>\n",
       "<table border=\"1\" class=\"dataframe\">\n",
       "  <thead>\n",
       "    <tr style=\"text-align: right;\">\n",
       "      <th></th>\n",
       "      <th>relative_compactness</th>\n",
       "      <th>surface_area</th>\n",
       "      <th>wall_area</th>\n",
       "      <th>roof_area</th>\n",
       "      <th>orientation</th>\n",
       "      <th>glazing_area</th>\n",
       "      <th>glazing_area_distribution</th>\n",
       "    </tr>\n",
       "  </thead>\n",
       "  <tbody>\n",
       "    <tr>\n",
       "      <th>683</th>\n",
       "      <td>0.86</td>\n",
       "      <td>588.0</td>\n",
       "      <td>294.0</td>\n",
       "      <td>147.0</td>\n",
       "      <td>5</td>\n",
       "      <td>0.4</td>\n",
       "      <td>4</td>\n",
       "    </tr>\n",
       "  </tbody>\n",
       "</table>\n",
       "</div>"
      ],
      "text/plain": [
       "     relative_compactness  surface_area  wall_area  roof_area  orientation  \\\n",
       "683                  0.86         588.0      294.0      147.0            5   \n",
       "\n",
       "     glazing_area  glazing_area_distribution  \n",
       "683           0.4                          4  "
      ]
     },
     "execution_count": 29,
     "metadata": {},
     "output_type": "execute_result"
    }
   ],
   "source": [
    "x_train.head(1)"
   ]
  },
  {
   "cell_type": "code",
   "execution_count": 30,
   "metadata": {},
   "outputs": [
    {
     "data": {
      "text/html": [
       "<div>\n",
       "<style scoped>\n",
       "    .dataframe tbody tr th:only-of-type {\n",
       "        vertical-align: middle;\n",
       "    }\n",
       "\n",
       "    .dataframe tbody tr th {\n",
       "        vertical-align: top;\n",
       "    }\n",
       "\n",
       "    .dataframe thead th {\n",
       "        text-align: right;\n",
       "    }\n",
       "</style>\n",
       "<table border=\"1\" class=\"dataframe\">\n",
       "  <thead>\n",
       "    <tr style=\"text-align: right;\">\n",
       "      <th></th>\n",
       "      <th>relative_compactness</th>\n",
       "      <th>surface_area</th>\n",
       "      <th>wall_area</th>\n",
       "      <th>roof_area</th>\n",
       "      <th>overall_height</th>\n",
       "      <th>orientation</th>\n",
       "      <th>glazing_area</th>\n",
       "      <th>glazing_area_distribution</th>\n",
       "    </tr>\n",
       "  </thead>\n",
       "  <tbody>\n",
       "    <tr>\n",
       "      <th>203</th>\n",
       "      <td>0.86</td>\n",
       "      <td>588.0</td>\n",
       "      <td>294.0</td>\n",
       "      <td>147.0</td>\n",
       "      <td>7.0</td>\n",
       "      <td>5</td>\n",
       "      <td>0.1</td>\n",
       "      <td>4</td>\n",
       "    </tr>\n",
       "  </tbody>\n",
       "</table>\n",
       "</div>"
      ],
      "text/plain": [
       "     relative_compactness  surface_area  wall_area  roof_area  overall_height  \\\n",
       "203                  0.86         588.0      294.0      147.0             7.0   \n",
       "\n",
       "     orientation  glazing_area  glazing_area_distribution  \n",
       "203            5           0.1                          4  "
      ]
     },
     "execution_count": 30,
     "metadata": {},
     "output_type": "execute_result"
    }
   ],
   "source": [
    "new_X_train.head(1)"
   ]
  },
  {
   "cell_type": "code",
   "execution_count": 31,
   "metadata": {},
   "outputs": [
    {
     "name": "stdout",
     "output_type": "stream",
     "text": [
      "R2: 0.9976145421999499\n"
     ]
    }
   ],
   "source": [
    "modelo= RandomForestRegressor(n_estimators= 100,\n",
    "                              criterion= 'mse', \n",
    "                              max_depth= None,\n",
    "                              min_samples_split= 2,\n",
    "                              min_samples_leaf= 1,\n",
    "                              max_features= 'auto', \n",
    "                              bootstrap= True,\n",
    "                              oob_score= False,\n",
    "                              random_state= 0,\n",
    "                              verbose= 0)\n",
    "modelo= modelo.fit(new_X_train, new_y_train) \n",
    "y_gorro= modelo.predict(new_X_test)\n",
    "print(f'R2: {modelo.score(new_X_test, new_y_test)}')"
   ]
  },
  {
   "cell_type": "code",
   "execution_count": 32,
   "metadata": {},
   "outputs": [
    {
     "name": "stdout",
     "output_type": "stream",
     "text": [
      "{'max_depth': 8, 'min_samples_split': 10, 'n_estimators': 91}\n"
     ]
    }
   ],
   "source": [
    "modelo= RandomForestRegressor(criterion= 'mse',\n",
    "                               min_samples_leaf= 1,\n",
    "                               max_features= 'auto',\n",
    "                               bootstrap= True,\n",
    "                               oob_score= False,\n",
    "                               random_state= 0,\n",
    "                               verbose= 0)\n",
    "gs= GridSearchCV(modelo,\n",
    "                 param_grid= {'max_depth': range(1, 11),\n",
    "                              'min_samples_split': range(10, 60, 10),\n",
    "                              'n_estimators': range(1, 100, 10)}, \n",
    "                  cv= 2,\n",
    "                  scoring= 'neg_mean_squared_error')\n",
    "gs.fit(new_X_train, new_y_train)\n",
    "print(gs.best_params_)"
   ]
  },
  {
   "cell_type": "code",
   "execution_count": 33,
   "metadata": {},
   "outputs": [
    {
     "data": {
      "text/plain": [
       "RandomForestRegressor(max_depth=8, min_samples_split=10, n_estimators=91,\n",
       "                      random_state=0)"
      ]
     },
     "execution_count": 33,
     "metadata": {},
     "output_type": "execute_result"
    }
   ],
   "source": [
    "nuevo_modelo= RandomForestRegressor(n_estimators= 91,\n",
    "                                    criterion= 'mse',\n",
    "                                    max_depth= 8,\n",
    "                                    min_samples_split= 10,\n",
    "                                    min_samples_leaf= 1,\n",
    "                                    max_features= 'auto',\n",
    "                                    bootstrap= True,\n",
    "                                    oob_score= False,\n",
    "                                    random_state= 0,\n",
    "                                    verbose= 0)\n",
    "nuevo_modelo.fit(new_X_train, new_y_train)"
   ]
  },
  {
   "cell_type": "code",
   "execution_count": 34,
   "metadata": {},
   "outputs": [
    {
     "name": "stdout",
     "output_type": "stream",
     "text": [
      "R2: 0.9956015292826809 \n",
      "MSE: 0.4464943517406011\n"
     ]
    }
   ],
   "source": [
    "y_gorro= nuevo_modelo.predict(new_X_test)\n",
    "R2_score_RF= r2_score(new_y_test, y_gorro)\n",
    "MSE_score_RF= mean_squared_error(new_y_test, y_gorro)\n",
    "print(f'R2: {R2_score_RF} \\nMSE: {MSE_score_RF}')"
   ]
  },
  {
   "cell_type": "markdown",
   "metadata": {},
   "source": [
    "---"
   ]
  },
  {
   "cell_type": "markdown",
   "metadata": {},
   "source": [
    "<font color= 'darkblue'> **Tercer modelo:** Máquina de Soporte Vectorial basada en Regresión. </font>"
   ]
  },
  {
   "cell_type": "code",
   "execution_count": 35,
   "metadata": {},
   "outputs": [
    {
     "name": "stdout",
     "output_type": "stream",
     "text": [
      "R2 = 0.6889\n",
      "MSE: 32.8319373930526\n"
     ]
    }
   ],
   "source": [
    "epsilon= 0.1\n",
    "model_svr= SVR(kernel='rbf', epsilon= epsilon)\n",
    "model_svr.fit(x_train, y_train)\n",
    "y_pred= model_svr.predict(x_test)\n",
    "print('R2 = %0.4f'%model_svr.score(x_test, y_test))\n",
    "print(f'MSE: {mean_squared_error(y_test, y_pred)}')"
   ]
  },
  {
   "cell_type": "code",
   "execution_count": 36,
   "metadata": {},
   "outputs": [
    {
     "name": "stdout",
     "output_type": "stream",
     "text": [
      "{'C': 1000, 'gamma': 0.001, 'kernel': 'rbf'}\n"
     ]
    }
   ],
   "source": [
    "#Usando cross validation y grid search\n",
    "tuned_parameters= [{'kernel': ['rbf'], 'gamma': [1e-3, 1e-4], 'C': [1, 10, 100, 1000]}]\n",
    "model= SVR()\n",
    "gs= GridSearchCV(model,\n",
    "                 tuned_parameters, \n",
    "                 cv= 2,\n",
    "                 scoring='neg_mean_squared_error')\n",
    "gs.fit(x_train, y_train)\n",
    "print(gs.best_params_)"
   ]
  },
  {
   "cell_type": "code",
   "execution_count": 37,
   "metadata": {},
   "outputs": [
    {
     "data": {
      "text/plain": [
       "SVR(C=1000, gamma=0.001)"
      ]
     },
     "execution_count": 37,
     "metadata": {},
     "output_type": "execute_result"
    }
   ],
   "source": [
    "new_model= SVR(kernel= 'rbf', C= 1000, gamma= 0.001)\n",
    "new_model.fit(x_train, y_train)"
   ]
  },
  {
   "cell_type": "code",
   "execution_count": 38,
   "metadata": {},
   "outputs": [
    {
     "name": "stdout",
     "output_type": "stream",
     "text": [
      "R2: 0.9649786146860747 \n",
      "MSE: 3.695898994879869\n"
     ]
    }
   ],
   "source": [
    "y_gorro= new_model.predict(x_test)\n",
    "R2_score_SVR= r2_score(y_test, y_gorro)\n",
    "MSE_score_SVR= mean_squared_error(y_test, y_gorro)\n",
    "print(f'R2: {R2_score_SVR} \\nMSE: {MSE_score_SVR}')"
   ]
  },
  {
   "cell_type": "markdown",
   "metadata": {},
   "source": [
    "<font color= 'teal'> 4. **Discusión de los resultados**. </font>\n",
    "\n",
    "Basado en los resultados de la comparación y *performance* de los modelos, generar una sección de conclusiones donde se hable de las ventajas y desventajas de los modelos propuestos."
   ]
  },
  {
   "cell_type": "code",
   "execution_count": 39,
   "metadata": {},
   "outputs": [
    {
     "data": {
      "text/html": [
       "<div>\n",
       "<style scoped>\n",
       "    .dataframe tbody tr th:only-of-type {\n",
       "        vertical-align: middle;\n",
       "    }\n",
       "\n",
       "    .dataframe tbody tr th {\n",
       "        vertical-align: top;\n",
       "    }\n",
       "\n",
       "    .dataframe thead th {\n",
       "        text-align: right;\n",
       "    }\n",
       "</style>\n",
       "<table border=\"1\" class=\"dataframe\">\n",
       "  <thead>\n",
       "    <tr style=\"text-align: right;\">\n",
       "      <th></th>\n",
       "      <th>Modelo</th>\n",
       "      <th>R2_Score</th>\n",
       "      <th>MSE</th>\n",
       "    </tr>\n",
       "  </thead>\n",
       "  <tbody>\n",
       "    <tr>\n",
       "      <th>0</th>\n",
       "      <td>Decision_Tree</td>\n",
       "      <td>0.995451</td>\n",
       "      <td>0.480022</td>\n",
       "    </tr>\n",
       "    <tr>\n",
       "      <th>1</th>\n",
       "      <td>Random_Forest</td>\n",
       "      <td>0.995602</td>\n",
       "      <td>0.446494</td>\n",
       "    </tr>\n",
       "    <tr>\n",
       "      <th>2</th>\n",
       "      <td>SVR</td>\n",
       "      <td>0.964979</td>\n",
       "      <td>3.695899</td>\n",
       "    </tr>\n",
       "  </tbody>\n",
       "</table>\n",
       "</div>"
      ],
      "text/plain": [
       "          Modelo  R2_Score       MSE\n",
       "0  Decision_Tree  0.995451  0.480022\n",
       "1  Random_Forest  0.995602  0.446494\n",
       "2            SVR  0.964979  3.695899"
      ]
     },
     "execution_count": 39,
     "metadata": {},
     "output_type": "execute_result"
    }
   ],
   "source": [
    "comparar_reg= {'Modelo': ['Decision_Tree', 'Random_Forest', 'SVR'],\n",
    "               'R2_Score': [R2_score_DT, R2_score_RF, R2_score_SVR],\n",
    "               'MSE': [MSE_score_DT, MSE_score_RF, MSE_score_SVR]}\n",
    "comparar_reg= pd.DataFrame(comparar_reg)\n",
    "comparar_reg"
   ]
  },
  {
   "cell_type": "markdown",
   "metadata": {},
   "source": [
    "Los tres modelos tuvieron resultados bastantes buenos. Se busca que el valor de $R^2$ sea cercano a $1$ y que el $MSE$ (Error Cuadrático Medio, o Mean Squared Error en inglés) sea cercano a $0$.\n",
    "\n",
    "El árbol de decisión por sí solo tiene cierta iestabilidad del modelo debido a que las particiones se basan en un conjunto de datos, y si se generaran cambios en el conjunto de datos entonces habría cambios importantes en la estructura del árbol y, especialmente, en su interpretabilidad. Por ello, el bosque aleatorio es muy buenos generalizando y, al ser un algoritmo muy estable, cuando hay datos nuevos, el algoritmo no se ve muy afectado. En caso de la máquina de vector soporte basada en regresión, tiene los beneficios de ser más efectivo para espacios de alta multidimensional y en casos cuando el número de variables es mayor al número de filas. Además, es un modelo robusto ante datos atípicos y tiene fácil implementación. En caso de tener grandes *datasets* puede llevar largos periodos de entrenamiento, especialmente para optimización de hiperparámetros. No obstante, una vez entrenado el modelo la predicción es muy rápida.\n",
    "\n",
    "Desde entendido, dado que las métricas son bastantes parecidas, basándose más en las ventajas y desventajas se elegiría la máquina de vector soporte para la predicción de nuevos datos. Además, de esta manera se aseguraría evitar el sobreajuste de los otros modelos. \n",
    "___"
   ]
  },
  {
   "cell_type": "markdown",
   "metadata": {},
   "source": [
    "### <font color= 'blue'> Clasificación </font> \n",
    "<font color= 'teal'> 1. **Definición del problema**. </font>\n",
    "\n",
    "Este problema tiene un sistema de aprendizaje obtenido con ejemplos de posiciones de ajedrez descritas únicamente por las coordinadas de las piezas en el tablero. También se toma en cuenta conocimiento básico sobre las diferencias de la forma entre filas y columnas. Las relaciones necesarias para formar un clasificador correcto para la variable objetivo debe ser descubierta por el sistema de aprendizaje.\n",
    "\n",
    "La tarea consiste en clasificar las posiciones ganadas para las blancas en un número fijo de jugadas, asumiendo un juego óptimo de ambos lados. El problema se estructura en subproblemas separados por sorteo ordenado de profundidad de ganancia; $cero$, $uno$, $dos$, y así sucesivamente hasta el $dieciséis$. Los datos se obtuvieron de [archive.ics.uci.edu](http://archive.ics.uci.edu/ml/datasets/Chess+%28King-Rook+vs.+King%29)\n",
    "\n",
    "**Variables:**\n",
    "+ a $\\rightarrow$ White King file\n",
    "+ 1 $\\rightarrow$ White King rank\n",
    "+ b $\\rightarrow$ White Rook file\n",
    "+ 3 $\\rightarrow$ White Rook rank\n",
    "+ c $\\rightarrow$ Black King file\n",
    "+ 2 $\\rightarrow$ Black King rank\n",
    "+ draw $\\rightarrow$ optimal depth-of-win for White in $0$ to 16 moves, otherwise drawn\n",
    "> Donde:\n",
    "> * file $\\rightarrow$ columna\n",
    "> * rank $\\rightarrow$ fila\n",
    "\n",
    "Igual que en el caso anterior, para poder visualizar los datos a través del código posterior, se necesita tener el archivo tipo `data` adjunto en el mismo entorno virtual que este *Jupyter Notebook*, en caso contrario será necesario especificar la dirección en donde se encuentra dicho documento. También se pueden obtener los datos directamente desde la página mencionada ([archive.ics.uci.edu](http://archive.ics.uci.edu/ml/datasets/Chess+%28King-Rook+vs.+King%29))\n",
    "\n",
    "<font color= 'teal'> 2. **Preparación de datos:** </font> <br>"
   ]
  },
  {
   "cell_type": "code",
   "execution_count": 40,
   "metadata": {},
   "outputs": [
    {
     "data": {
      "text/html": [
       "<div>\n",
       "<style scoped>\n",
       "    .dataframe tbody tr th:only-of-type {\n",
       "        vertical-align: middle;\n",
       "    }\n",
       "\n",
       "    .dataframe tbody tr th {\n",
       "        vertical-align: top;\n",
       "    }\n",
       "\n",
       "    .dataframe thead th {\n",
       "        text-align: right;\n",
       "    }\n",
       "</style>\n",
       "<table border=\"1\" class=\"dataframe\">\n",
       "  <thead>\n",
       "    <tr style=\"text-align: right;\">\n",
       "      <th></th>\n",
       "      <th>a</th>\n",
       "      <th>1</th>\n",
       "      <th>b</th>\n",
       "      <th>3</th>\n",
       "      <th>c</th>\n",
       "      <th>2</th>\n",
       "      <th>draw</th>\n",
       "    </tr>\n",
       "  </thead>\n",
       "  <tbody>\n",
       "    <tr>\n",
       "      <th>0</th>\n",
       "      <td>a</td>\n",
       "      <td>1</td>\n",
       "      <td>c</td>\n",
       "      <td>1</td>\n",
       "      <td>c</td>\n",
       "      <td>2</td>\n",
       "      <td>draw</td>\n",
       "    </tr>\n",
       "    <tr>\n",
       "      <th>1</th>\n",
       "      <td>a</td>\n",
       "      <td>1</td>\n",
       "      <td>c</td>\n",
       "      <td>1</td>\n",
       "      <td>d</td>\n",
       "      <td>1</td>\n",
       "      <td>draw</td>\n",
       "    </tr>\n",
       "    <tr>\n",
       "      <th>2</th>\n",
       "      <td>a</td>\n",
       "      <td>1</td>\n",
       "      <td>c</td>\n",
       "      <td>1</td>\n",
       "      <td>d</td>\n",
       "      <td>2</td>\n",
       "      <td>draw</td>\n",
       "    </tr>\n",
       "    <tr>\n",
       "      <th>3</th>\n",
       "      <td>a</td>\n",
       "      <td>1</td>\n",
       "      <td>c</td>\n",
       "      <td>2</td>\n",
       "      <td>c</td>\n",
       "      <td>1</td>\n",
       "      <td>draw</td>\n",
       "    </tr>\n",
       "    <tr>\n",
       "      <th>4</th>\n",
       "      <td>a</td>\n",
       "      <td>1</td>\n",
       "      <td>c</td>\n",
       "      <td>2</td>\n",
       "      <td>c</td>\n",
       "      <td>3</td>\n",
       "      <td>draw</td>\n",
       "    </tr>\n",
       "  </tbody>\n",
       "</table>\n",
       "</div>"
      ],
      "text/plain": [
       "   a  1  b  3  c  2  draw\n",
       "0  a  1  c  1  c  2  draw\n",
       "1  a  1  c  1  d  1  draw\n",
       "2  a  1  c  1  d  2  draw\n",
       "3  a  1  c  2  c  1  draw\n",
       "4  a  1  c  2  c  3  draw"
      ]
     },
     "execution_count": 40,
     "metadata": {},
     "output_type": "execute_result"
    }
   ],
   "source": [
    "# Importar datos\n",
    "df= pd.read_csv('Chess.data')\n",
    "df.head()"
   ]
  },
  {
   "cell_type": "code",
   "execution_count": 41,
   "metadata": {},
   "outputs": [
    {
     "data": {
      "text/html": [
       "<div>\n",
       "<style scoped>\n",
       "    .dataframe tbody tr th:only-of-type {\n",
       "        vertical-align: middle;\n",
       "    }\n",
       "\n",
       "    .dataframe tbody tr th {\n",
       "        vertical-align: top;\n",
       "    }\n",
       "\n",
       "    .dataframe thead th {\n",
       "        text-align: right;\n",
       "    }\n",
       "</style>\n",
       "<table border=\"1\" class=\"dataframe\">\n",
       "  <thead>\n",
       "    <tr style=\"text-align: right;\">\n",
       "      <th></th>\n",
       "      <th>white_king_file</th>\n",
       "      <th>white_king_rank</th>\n",
       "      <th>white_rook_file</th>\n",
       "      <th>white_rook_rank</th>\n",
       "      <th>black_king_file</th>\n",
       "      <th>black_king_rank</th>\n",
       "      <th>y</th>\n",
       "    </tr>\n",
       "  </thead>\n",
       "  <tbody>\n",
       "    <tr>\n",
       "      <th>0</th>\n",
       "      <td>a</td>\n",
       "      <td>1</td>\n",
       "      <td>c</td>\n",
       "      <td>1</td>\n",
       "      <td>c</td>\n",
       "      <td>2</td>\n",
       "      <td>draw</td>\n",
       "    </tr>\n",
       "    <tr>\n",
       "      <th>1</th>\n",
       "      <td>a</td>\n",
       "      <td>1</td>\n",
       "      <td>c</td>\n",
       "      <td>1</td>\n",
       "      <td>d</td>\n",
       "      <td>1</td>\n",
       "      <td>draw</td>\n",
       "    </tr>\n",
       "    <tr>\n",
       "      <th>2</th>\n",
       "      <td>a</td>\n",
       "      <td>1</td>\n",
       "      <td>c</td>\n",
       "      <td>1</td>\n",
       "      <td>d</td>\n",
       "      <td>2</td>\n",
       "      <td>draw</td>\n",
       "    </tr>\n",
       "    <tr>\n",
       "      <th>3</th>\n",
       "      <td>a</td>\n",
       "      <td>1</td>\n",
       "      <td>c</td>\n",
       "      <td>2</td>\n",
       "      <td>c</td>\n",
       "      <td>1</td>\n",
       "      <td>draw</td>\n",
       "    </tr>\n",
       "    <tr>\n",
       "      <th>4</th>\n",
       "      <td>a</td>\n",
       "      <td>1</td>\n",
       "      <td>c</td>\n",
       "      <td>2</td>\n",
       "      <td>c</td>\n",
       "      <td>3</td>\n",
       "      <td>draw</td>\n",
       "    </tr>\n",
       "  </tbody>\n",
       "</table>\n",
       "</div>"
      ],
      "text/plain": [
       "  white_king_file  white_king_rank white_rook_file  white_rook_rank  \\\n",
       "0               a                1               c                1   \n",
       "1               a                1               c                1   \n",
       "2               a                1               c                1   \n",
       "3               a                1               c                2   \n",
       "4               a                1               c                2   \n",
       "\n",
       "  black_king_file  black_king_rank     y  \n",
       "0               c                2  draw  \n",
       "1               d                1  draw  \n",
       "2               d                2  draw  \n",
       "3               c                1  draw  \n",
       "4               c                3  draw  "
      ]
     },
     "execution_count": 41,
     "metadata": {},
     "output_type": "execute_result"
    }
   ],
   "source": [
    "# Renombrar las columnas\n",
    "nombres2= ['white_king_file', 'white_king_rank', 'white_rook_file',\n",
    "           'white_rook_rank', 'black_king_file', 'black_king_rank', 'y']\n",
    "df.columns= nombres2\n",
    "df.head()"
   ]
  },
  {
   "cell_type": "code",
   "execution_count": 42,
   "metadata": {},
   "outputs": [
    {
     "name": "stdout",
     "output_type": "stream",
     "text": [
      "+ Tipo: \n",
      " <class 'pandas.core.frame.DataFrame'>\n",
      "\n",
      "+ Dimensión de los datos: \n",
      " (28055, 7)\n",
      "\n",
      "+ Tipo de datos por columna: \n",
      "white_king_file    object\n",
      "white_king_rank     int64\n",
      "white_rook_file    object\n",
      "white_rook_rank     int64\n",
      "black_king_file    object\n",
      "black_king_rank     int64\n",
      "y                  object\n",
      "dtype: object\n",
      "\n",
      "+ Cantidad de nulos por columna: \n",
      "white_king_file    0\n",
      "white_king_rank    0\n",
      "white_rook_file    0\n",
      "white_rook_rank    0\n",
      "black_king_file    0\n",
      "black_king_rank    0\n",
      "y                  0\n",
      "dtype: int64\n",
      "\n",
      "+ Valores únicos por columna: \n",
      "white_king_file     4\n",
      "white_king_rank     4\n",
      "white_rook_file     8\n",
      "white_rook_rank     8\n",
      "black_king_file     8\n",
      "black_king_rank     8\n",
      "y                  18\n",
      "dtype: int64\n"
     ]
    }
   ],
   "source": [
    "# Conocer los datos\n",
    "# Se guardan los datos como un DataFrame de pandas\n",
    "print(f'+ Tipo: \\n {type(df)}')\n",
    "\n",
    "# El tamaño de los datos se visualiza en una tupla; primero la cantidad de filas y después el número de columnas\n",
    "print(f'\\n+ Dimensión de los datos: \\n {df.shape}')\n",
    "\n",
    "# Tipo de cada variable\n",
    "print(f'\\n+ Tipo de datos por columna: \\n{df.dtypes}')\n",
    "\n",
    "# Conteo de valores nulos\n",
    "print(f'\\n+ Cantidad de nulos por columna: \\n{df.isnull().sum()}')\n",
    "\n",
    "# Valores únicos\n",
    "print(f'\\n+ Valores únicos por columna: \\n{df.nunique()}')"
   ]
  },
  {
   "cell_type": "code",
   "execution_count": 43,
   "metadata": {},
   "outputs": [
    {
     "name": "stdout",
     "output_type": "stream",
     "text": [
      "<class 'pandas.core.frame.DataFrame'>\n",
      "RangeIndex: 28055 entries, 0 to 28054\n",
      "Data columns (total 7 columns):\n",
      " #   Column           Non-Null Count  Dtype \n",
      "---  ------           --------------  ----- \n",
      " 0   white_king_file  28055 non-null  object\n",
      " 1   white_king_rank  28055 non-null  int64 \n",
      " 2   white_rook_file  28055 non-null  object\n",
      " 3   white_rook_rank  28055 non-null  int64 \n",
      " 4   black_king_file  28055 non-null  object\n",
      " 5   black_king_rank  28055 non-null  int64 \n",
      " 6   y                28055 non-null  object\n",
      "dtypes: int64(3), object(4)\n",
      "memory usage: 1.5+ MB\n"
     ]
    }
   ],
   "source": [
    "# Resumen de lo anterior\n",
    "df.info()"
   ]
  },
  {
   "cell_type": "markdown",
   "metadata": {},
   "source": [
    "Para poder trabajar con los datos, es necesario convertir las variables categóricas a numéricas."
   ]
  },
  {
   "cell_type": "code",
   "execution_count": 44,
   "metadata": {},
   "outputs": [
    {
     "name": "stdout",
     "output_type": "stream",
     "text": [
      "- white_king_file\n",
      "- white_rook_file\n",
      "- black_king_file\n",
      "- y\n"
     ]
    }
   ],
   "source": [
    "# Visualizar las columnas categóricas (de tipo objeto)\n",
    "for col in df.columns:\n",
    "    if df[col].dtype== 'object':\n",
    "        print(f'- {col}')"
   ]
  },
  {
   "cell_type": "code",
   "execution_count": 45,
   "metadata": {},
   "outputs": [
    {
     "name": "stdout",
     "output_type": "stream",
     "text": [
      "Valores únicos \"white_king_file\": ['a' 'b' 'c' 'd']\n",
      "\n",
      "Valores únicos \"white_rook_file\": ['c' 'd' 'e' 'f' 'g' 'h' 'a' 'b']\n",
      "\n",
      "Valores únicos \"black_king_file\": ['c' 'd' 'e' 'f' 'g' 'h' 'a' 'b']\n",
      "\n",
      "Valores únicos \"y\": ['draw' 'zero' 'one' 'two' 'three' 'four' 'five' 'six' 'seven' 'eight'\n",
      " 'nine' 'ten' 'eleven' 'twelve' 'thirteen' 'fourteen' 'fifteen' 'sixteen']\n"
     ]
    }
   ],
   "source": [
    "print(f'Valores únicos \"white_king_file\": {df[\"white_king_file\"].unique()}')\n",
    "print(f'\\nValores únicos \"white_rook_file\": {df[\"white_rook_file\"].unique()}')\n",
    "print(f'\\nValores únicos \"black_king_file\": {df[\"black_king_file\"].unique()}')\n",
    "print(f'\\nValores únicos \"y\": {df[\"y\"].unique()}')"
   ]
  },
  {
   "cell_type": "code",
   "execution_count": 46,
   "metadata": {},
   "outputs": [
    {
     "data": {
      "text/html": [
       "<div>\n",
       "<style scoped>\n",
       "    .dataframe tbody tr th:only-of-type {\n",
       "        vertical-align: middle;\n",
       "    }\n",
       "\n",
       "    .dataframe tbody tr th {\n",
       "        vertical-align: top;\n",
       "    }\n",
       "\n",
       "    .dataframe thead th {\n",
       "        text-align: right;\n",
       "    }\n",
       "</style>\n",
       "<table border=\"1\" class=\"dataframe\">\n",
       "  <thead>\n",
       "    <tr style=\"text-align: right;\">\n",
       "      <th></th>\n",
       "      <th>white_king_file</th>\n",
       "      <th>white_king_rank</th>\n",
       "      <th>white_rook_file</th>\n",
       "      <th>white_rook_rank</th>\n",
       "      <th>black_king_file</th>\n",
       "      <th>black_king_rank</th>\n",
       "      <th>y</th>\n",
       "    </tr>\n",
       "  </thead>\n",
       "  <tbody>\n",
       "    <tr>\n",
       "      <th>0</th>\n",
       "      <td>0</td>\n",
       "      <td>1</td>\n",
       "      <td>2</td>\n",
       "      <td>1</td>\n",
       "      <td>2</td>\n",
       "      <td>2</td>\n",
       "      <td>0</td>\n",
       "    </tr>\n",
       "    <tr>\n",
       "      <th>1</th>\n",
       "      <td>0</td>\n",
       "      <td>1</td>\n",
       "      <td>2</td>\n",
       "      <td>1</td>\n",
       "      <td>3</td>\n",
       "      <td>1</td>\n",
       "      <td>0</td>\n",
       "    </tr>\n",
       "    <tr>\n",
       "      <th>2</th>\n",
       "      <td>0</td>\n",
       "      <td>1</td>\n",
       "      <td>2</td>\n",
       "      <td>1</td>\n",
       "      <td>3</td>\n",
       "      <td>2</td>\n",
       "      <td>0</td>\n",
       "    </tr>\n",
       "    <tr>\n",
       "      <th>3</th>\n",
       "      <td>0</td>\n",
       "      <td>1</td>\n",
       "      <td>2</td>\n",
       "      <td>2</td>\n",
       "      <td>2</td>\n",
       "      <td>1</td>\n",
       "      <td>0</td>\n",
       "    </tr>\n",
       "    <tr>\n",
       "      <th>4</th>\n",
       "      <td>0</td>\n",
       "      <td>1</td>\n",
       "      <td>2</td>\n",
       "      <td>2</td>\n",
       "      <td>2</td>\n",
       "      <td>3</td>\n",
       "      <td>0</td>\n",
       "    </tr>\n",
       "  </tbody>\n",
       "</table>\n",
       "</div>"
      ],
      "text/plain": [
       "   white_king_file  white_king_rank  white_rook_file  white_rook_rank  \\\n",
       "0                0                1                2                1   \n",
       "1                0                1                2                1   \n",
       "2                0                1                2                1   \n",
       "3                0                1                2                2   \n",
       "4                0                1                2                2   \n",
       "\n",
       "   black_king_file  black_king_rank  y  \n",
       "0                2                2  0  \n",
       "1                3                1  0  \n",
       "2                3                2  0  \n",
       "3                2                1  0  \n",
       "4                2                3  0  "
      ]
     },
     "execution_count": 46,
     "metadata": {},
     "output_type": "execute_result"
    }
   ],
   "source": [
    "# Convertir a numéricas con LabelEncoder \n",
    "df3= df.copy()\n",
    "lbl_white_king= LabelEncoder()\n",
    "df3['white_king_file']= lbl_white_king.fit_transform(df3['white_king_file'])\n",
    "lbl_white_rook= LabelEncoder()\n",
    "df3['white_rook_file']= lbl_white_rook.fit_transform(df3['white_rook_file'])\n",
    "lbl_black_king= LabelEncoder()\n",
    "df3['black_king_file']= lbl_black_king.fit_transform(df3['black_king_file'])\n",
    "lbl_result= LabelEncoder()\n",
    "df3['y']= lbl_result.fit_transform(df3['y'])\n",
    "df3.head()"
   ]
  },
  {
   "cell_type": "code",
   "execution_count": 47,
   "metadata": {},
   "outputs": [],
   "source": [
    "# Guardar en el DataFrame original\n",
    "df= df3.copy()"
   ]
  },
  {
   "cell_type": "code",
   "execution_count": 48,
   "metadata": {},
   "outputs": [
    {
     "name": "stdout",
     "output_type": "stream",
     "text": [
      "\n",
      "+ Tipo de datos por columna: \n",
      "white_king_file    int32\n",
      "white_king_rank    int64\n",
      "white_rook_file    int32\n",
      "white_rook_rank    int64\n",
      "black_king_file    int32\n",
      "black_king_rank    int64\n",
      "y                  int32\n",
      "dtype: object\n"
     ]
    }
   ],
   "source": [
    "# Verificar que sean numéricas\n",
    "print(f'\\n+ Tipo de datos por columna: \\n{df.dtypes}')"
   ]
  },
  {
   "cell_type": "code",
   "execution_count": 49,
   "metadata": {},
   "outputs": [
    {
     "data": {
      "image/png": "[encoded data removed]",
      "text/plain": [
       "<Figure size 720x720 with 9 Axes>"
      ]
     },
     "metadata": {
      "needs_background": "light"
     },
     "output_type": "display_data"
    }
   ],
   "source": [
    "# Ver la distribución de las variables\n",
    "df.hist(color='teal', alpha= 0.7, bins=10, figsize=(10,10))\n",
    "plt.show()"
   ]
  },
  {
   "cell_type": "markdown",
   "metadata": {},
   "source": [
    "En este caso, no será necesario escalar las variables ya que todas se encuentran en un rango similar. El procedimiento de *train-test* sí se realizará."
   ]
  },
  {
   "cell_type": "code",
   "execution_count": 50,
   "metadata": {},
   "outputs": [
    {
     "name": "stdout",
     "output_type": "stream",
     "text": [
      "Predictoras:\n",
      " ['white_king_file', 'white_king_rank', 'white_rook_file', 'white_rook_rank', 'black_king_file', 'black_king_rank'] \n",
      "\n",
      "Obetivo:\n",
      " ['y']\n"
     ]
    }
   ],
   "source": [
    "# Identificar las variables predictoras y las objetivo\n",
    "objetivo= ['y']\n",
    "predictores= [c for c in df.columns if c not in objetivo]\n",
    "print(f'Predictoras:\\n {predictores} \\n\\nObetivo:\\n {objetivo}')\n",
    "\n",
    "#Separar x de y\n",
    "x=df.iloc[:,:-1].values\n",
    "y=df.iloc[:,-1].values"
   ]
  },
  {
   "cell_type": "code",
   "execution_count": 51,
   "metadata": {},
   "outputs": [
    {
     "name": "stdout",
     "output_type": "stream",
     "text": [
      "Tamaño de DataFrame original: (28055, 7)\n",
      "Tamaño de X entrenamiento: (19638, 6)\n",
      "Tamaño de X prueba:: (8417, 6)\n",
      "Tamaño de y entrenamiento: (19638,)\n",
      "Tamaño de y prueba: (8417,)\n"
     ]
    }
   ],
   "source": [
    "# Dividir los datos en dos grupos para evitar leakage; 70% de entrenamiento y 30% para prueba\n",
    "train_X, test_X, train_y, test_y= train_test_split(x, y, test_size= 0.3)\n",
    "\n",
    "print(f'Tamaño de DataFrame original: {df.shape}')\n",
    "print(f'Tamaño de X entrenamiento: {train_X.shape}')\n",
    "print(f'Tamaño de X prueba:: {test_X.shape}')\n",
    "print(f'Tamaño de y entrenamiento: {train_y.shape}')\n",
    "print(f'Tamaño de y prueba: {test_y.shape}')"
   ]
  },
  {
   "cell_type": "code",
   "execution_count": 52,
   "metadata": {},
   "outputs": [
    {
     "data": {
      "text/plain": [
       "6     4553\n",
       "13    4194\n",
       "15    3597\n",
       "2     2854\n",
       "0     2795\n",
       "3     2166\n",
       "12    1985\n",
       "7     1712\n",
       "1     1433\n",
       "9      683\n",
       "10     592\n",
       "4      471\n",
       "11     390\n",
       "16     246\n",
       "5      198\n",
       "14      81\n",
       "8       78\n",
       "17      27\n",
       "Name: y, dtype: int64"
      ]
     },
     "execution_count": 52,
     "metadata": {},
     "output_type": "execute_result"
    }
   ],
   "source": [
    "#Distribución de la variable Y \n",
    "df.y.value_counts()"
   ]
  },
  {
   "cell_type": "code",
   "execution_count": 53,
   "metadata": {},
   "outputs": [
    {
     "data": {
      "image/png": "[encoded data removed]",
      "text/plain": [
       "<Figure size 720x576 with 1 Axes>"
      ]
     },
     "metadata": {
      "needs_background": "light"
     },
     "output_type": "display_data"
    }
   ],
   "source": [
    "# Varianzas de cada columna\n",
    "varianzas= pd.DataFrame(df.var().sort_values(), columns= ['Varianza'])\n",
    "\n",
    "def addlabels(x,y):\n",
    "    for i in range(len(x)):\n",
    "        plt.text(i, round(y[i], 3), round(y[i], 3))\n",
    "\n",
    "fig= plt.figure(figsize= (10, 8))\n",
    "plt.bar(np.arange(len(varianzas)), varianzas.Varianza, color= 'teal', alpha= 0.6, edgecolor= 'blue')\n",
    "plt.ylabel('Varianza')\n",
    "plt.xticks(np.arange(len(varianzas)),varianzas.index, rotation= 90)\n",
    "addlabels(np.arange(len(varianzas)), varianzas.Varianza)\n",
    "plt.axhline(4, linestyle= '--', c= 'r')\n",
    "plt.tight_layout()\n",
    "plt.show()"
   ]
  },
  {
   "cell_type": "markdown",
   "metadata": {},
   "source": [
    "Visualizando las varianzas de cada variable en la gráfica, si se decidiera hacer una selección de campos a través de este método, considerando un límite mayor a $4$, entonces las variables seleccionadas serían:\n",
    "1. `black_king_file`\n",
    "2. `white_rook_file`\n",
    "3. `white_rook_rank`\n",
    "4. `black_king_rank`"
   ]
  },
  {
   "cell_type": "code",
   "execution_count": 54,
   "metadata": {},
   "outputs": [
    {
     "data": {
      "text/html": [
       "<div>\n",
       "<style scoped>\n",
       "    .dataframe tbody tr th:only-of-type {\n",
       "        vertical-align: middle;\n",
       "    }\n",
       "\n",
       "    .dataframe tbody tr th {\n",
       "        vertical-align: top;\n",
       "    }\n",
       "\n",
       "    .dataframe thead th {\n",
       "        text-align: right;\n",
       "    }\n",
       "</style>\n",
       "<table border=\"1\" class=\"dataframe\">\n",
       "  <thead>\n",
       "    <tr style=\"text-align: right;\">\n",
       "      <th></th>\n",
       "      <th>value</th>\n",
       "      <th>skewness</th>\n",
       "    </tr>\n",
       "  </thead>\n",
       "  <tbody>\n",
       "    <tr>\n",
       "      <th>0</th>\n",
       "      <td>-0.69</td>\n",
       "      <td>Moderately skewed</td>\n",
       "    </tr>\n",
       "    <tr>\n",
       "      <th>1</th>\n",
       "      <td>0.76</td>\n",
       "      <td>Moderately skewed</td>\n",
       "    </tr>\n",
       "    <tr>\n",
       "      <th>2</th>\n",
       "      <td>-0.03</td>\n",
       "      <td>Symmetric distribution</td>\n",
       "    </tr>\n",
       "    <tr>\n",
       "      <th>3</th>\n",
       "      <td>-0.01</td>\n",
       "      <td>Symmetric distribution</td>\n",
       "    </tr>\n",
       "    <tr>\n",
       "      <th>4</th>\n",
       "      <td>-0.36</td>\n",
       "      <td>Symmetric distribution</td>\n",
       "    </tr>\n",
       "    <tr>\n",
       "      <th>5</th>\n",
       "      <td>0.00</td>\n",
       "      <td>Symmetric distribution</td>\n",
       "    </tr>\n",
       "  </tbody>\n",
       "</table>\n",
       "</div>"
      ],
      "text/plain": [
       "   value                skewness\n",
       "0  -0.69       Moderately skewed\n",
       "1   0.76       Moderately skewed\n",
       "2  -0.03  Symmetric distribution\n",
       "3  -0.01  Symmetric distribution\n",
       "4  -0.36  Symmetric distribution\n",
       "5   0.00  Symmetric distribution"
      ]
     },
     "execution_count": 54,
     "metadata": {},
     "output_type": "execute_result"
    }
   ],
   "source": [
    "# Conocer la asimetría\n",
    "df_train = pd.DataFrame(train_X)\n",
    "asimetria= round(df_train.skew(), 2)\n",
    "asimetria= asimetria.to_frame()\n",
    "asimetria= asimetria.rename(columns= {0: \"value\"}) \n",
    "def f(x):\n",
    "    if x['value'] < -1 or x['value'] > 1: return 'Highly Skewed'\n",
    "    elif (x['value']<=0 and x['value']>= -0.5) or (x['value'] >= 0 and x['value']<= 0.5):\n",
    "        return 'Symmetric distribution'\n",
    "    else: \n",
    "        return 'Moderately skewed'\n",
    "asimetria['skewness'] = asimetria.apply(f, axis=1)\n",
    "asimetria"
   ]
  },
  {
   "cell_type": "code",
   "execution_count": 55,
   "metadata": {},
   "outputs": [],
   "source": [
    "# Balancear los datos\n",
    "smote= SMOTE()\n",
    "x_smote, y_smote= smote.fit_resample(train_X, train_y)"
   ]
  },
  {
   "cell_type": "markdown",
   "metadata": {},
   "source": [
    "___\n",
    "<font color= 'teal'> 3. **Procesar modelo de clasificación**. </font>\n",
    "\n",
    "Aplicar al menos 2 modelos de clasificación para estimar el mapeo de los datos. La intención principal es hacer una comparación del *performance* de cada modelo, incluyendo la mención de la complejidad (número de parámetros y tiempo de ejecución). De ser posible añadir un método de ajuste de hiperparámetros (*gridsearch*) para mejorar el performance del modelo."
   ]
  },
  {
   "cell_type": "markdown",
   "metadata": {},
   "source": [
    "<font color= 'darkblue'> **Primer modelo:** Regresión Logística. </font>"
   ]
  },
  {
   "cell_type": "code",
   "execution_count": 56,
   "metadata": {},
   "outputs": [
    {
     "data": {
      "text/plain": [
       "LogisticRegression()"
      ]
     },
     "execution_count": 56,
     "metadata": {},
     "output_type": "execute_result"
    }
   ],
   "source": [
    "logreg= LogisticRegression()\n",
    "logreg.fit(x_smote, y_smote)"
   ]
  },
  {
   "cell_type": "code",
   "execution_count": 57,
   "metadata": {},
   "outputs": [],
   "source": [
    "y_pred= logreg.predict(test_X)"
   ]
  },
  {
   "cell_type": "code",
   "execution_count": 58,
   "metadata": {},
   "outputs": [
    {
     "name": "stdout",
     "output_type": "stream",
     "text": [
      "[[ 74   2  56  93  22  10 158  56   5  80  45  74  57  49  10  37   3  11]\n",
      " [  7 125  27  11  31   3  32  33   3  22  61   7   8  14  23   0  12   4]\n",
      " [ 42  16 142  51  20   1  83 210  11  35  19  57  33 101   0  17   2   1]\n",
      " [ 20   0   1 236   3   0 228   4   0   2  15 152  14   2   0   1   0   0]\n",
      " [  0   7   5   1  41  29   0   0   3   5  21   0   1   0  23   0   6   0]\n",
      " [  0   0   0   0  19  25   0   0   0   0  10   0   0   0   6   0   2   0]\n",
      " [121  11  36 244  17   0 578  41   3  29  53 119  49  31   0  21   0   2]\n",
      " [ 18  87  62  30   9   3  30 115   9  19  42   4  20  28   9   7   6   4]\n",
      " [  0   0   0   0   2   0   0   0   9   0   0   0   0   0   2   0   4   1]\n",
      " [  2  47  10   7  19   4  10  12   7  14  25   4   5   4   4   1   2   5]\n",
      " [  0  18   7   4  40   3   0   5   0  11  80   0   2   4   8   0   1   3]\n",
      " [  0   0   0  27   0   0   0   0   0   0   0  88   0   0   0   0   0   0]\n",
      " [ 17  71  77  36  20   3  51 114  19  43  32  22  30  30   0   9   8   4]\n",
      " [118  22 113 148  10   0 321 105   7  51  40  91  42 184   0  41   1   0]\n",
      " [  0   0   0   0   4   7   0   0   0   0   0   0   0   0   6   0   4   1]\n",
      " [ 96  18 204  76  21   0 157 182   6  56  20  44  43 136   0  21   0   0]\n",
      " [  0   1   0   0  10   0   0   0  21   0   2   0   0   0   8   0  36   4]\n",
      " [  0   0   0   0   0   2   0   0   3   0   0   0   0   0   0   0   1   1]]\n"
     ]
    }
   ],
   "source": [
    "confusion_matrix= confusion_matrix(test_y, y_pred)\n",
    "print(confusion_matrix)"
   ]
  },
  {
   "cell_type": "code",
   "execution_count": 59,
   "metadata": {},
   "outputs": [
    {
     "name": "stdout",
     "output_type": "stream",
     "text": [
      "Accuracy: 0.2144\n"
     ]
    }
   ],
   "source": [
    "print('Accuracy: {:.4f}'.format(logreg.score(test_X, test_y)))"
   ]
  },
  {
   "cell_type": "code",
   "execution_count": 60,
   "metadata": {},
   "outputs": [
    {
     "name": "stdout",
     "output_type": "stream",
     "text": [
      "Accuracy: 0.2711\n"
     ]
    }
   ],
   "source": [
    "cv= KFold(n_splits=10, random_state= 1, shuffle=True)\n",
    "model = LogisticRegression()\n",
    "scores= cross_val_score(model, train_X, train_y, scoring= 'accuracy', cv= cv)\n",
    "accuracy_LR= np.mean(scores)\n",
    "print('Accuracy: %.4f' % (accuracy_LR))"
   ]
  },
  {
   "cell_type": "markdown",
   "metadata": {},
   "source": [
    "___"
   ]
  },
  {
   "cell_type": "markdown",
   "metadata": {},
   "source": [
    "<font color= 'darkblue'> **Segundo modelo:** Árbol de Decisión. </font>"
   ]
  },
  {
   "cell_type": "code",
   "execution_count": 61,
   "metadata": {},
   "outputs": [
    {
     "name": "stdout",
     "output_type": "stream",
     "text": [
      "[[ 594   15   23   30    3    9   38   15    4   13    9   15   31   16\n",
      "     1   19    1    6]\n",
      " [   4  337    2    0    3    0    0   29    0   36    5    0    4    2\n",
      "     0    1    0    0]\n",
      " [  19   10  668    1    0    0    4   22    0    3    2    0   48   18\n",
      "     0   46    0    0]\n",
      " [  22    0    0  551    0    0   75    0    0    1    0   12    0   12\n",
      "     0    5    0    0]\n",
      " [   5    3    0    0  113    7    0    1    0    3    9    0    0    0\n",
      "     1    0    0    0]\n",
      " [   4    1    0    0    7   46    0    0    0    1    1    0    0    0\n",
      "     2    0    0    0]\n",
      " [  25    1    7   76    0    0 1119    0    0    0    1    2    5   86\n",
      "     0   33    0    0]\n",
      " [  10   47    8    0    0    0    2  396    0    8    0    0   27    1\n",
      "     0    3    0    0]\n",
      " [   0    0    0    0    0    0    0    0   17    1    0    0    0    0\n",
      "     0    0    0    0]\n",
      " [   6    6    0    0    1    1    0    4    0  147   13    0    4    0\n",
      "     0    0    0    0]\n",
      " [   6    7    0    0   10    1    0    6    0   23  130    0    2    0\n",
      "     1    0    0    0]\n",
      " [   5    0    0   11    0    0    0    0    0    0    0   98    0    1\n",
      "     0    0    0    0]\n",
      " [  18   19   45    1    1    0    1   49    0    3    3    1  424    9\n",
      "     0   12    0    0]\n",
      " [  17    1   22   13    0    0  100    3    0    0    0    0    8 1041\n",
      "     0   89    0    0]\n",
      " [   0    0    0    0    1    2    0    0    0    3    0    0    0    0\n",
      "    13    0    3    0]\n",
      " [  29    1   87    6    0    0   14    6    0    0    2    0   19   79\n",
      "     0  837    0    0]\n",
      " [   0    0    0    0    1    1    0    0    7    0    0    0    0    0\n",
      "     3    0   70    0]\n",
      " [   0    0    0    0    0    0    0    0    0    1    1    0    0    0\n",
      "     0    0    0    5]]\n"
     ]
    }
   ],
   "source": [
    "from sklearn.tree import DecisionTreeClassifier\n",
    "from sklearn.metrics import confusion_matrix\n",
    "model= DecisionTreeClassifier()\n",
    "model.fit(x_smote, y_smote)\n",
    "y_predict= model.predict(test_X)\n",
    "confusion= confusion_matrix(test_y, y_predict)\n",
    "print(confusion)"
   ]
  },
  {
   "cell_type": "code",
   "execution_count": 62,
   "metadata": {},
   "outputs": [
    {
     "name": "stdout",
     "output_type": "stream",
     "text": [
      "0.7848402043483427\n"
     ]
    }
   ],
   "source": [
    "score_DT= model.score(test_X, test_y)\n",
    "print(score_DT)"
   ]
  },
  {
   "cell_type": "markdown",
   "metadata": {},
   "source": [
    "<font color= 'darkblue'> **Tercer modelo:** Bosque Aleatorio. </font>"
   ]
  },
  {
   "cell_type": "code",
   "execution_count": 63,
   "metadata": {},
   "outputs": [
    {
     "name": "stderr",
     "output_type": "stream",
     "text": [
      "[Parallel(n_jobs=1)]: Using backend SequentialBackend with 1 concurrent workers.\n",
      "[Parallel(n_jobs=1)]: Done 100 out of 100 | elapsed:    2.3s finished\n",
      "[Parallel(n_jobs=1)]: Using backend SequentialBackend with 1 concurrent workers.\n",
      "[Parallel(n_jobs=1)]: Done 100 out of 100 | elapsed:    0.1s finished\n"
     ]
    }
   ],
   "source": [
    "modelo= RandomForestClassifier(n_estimators= 100,\n",
    "                               criterion= 'gini',\n",
    "                               max_depth= 3,\n",
    "                               min_samples_split= 2,\n",
    "                               min_samples_leaf= 1,\n",
    "                               max_features= 'auto',\n",
    "                               bootstrap= True,\n",
    "                               oob_score= False,\n",
    "                               random_state= 0,\n",
    "                               verbose= 1)\n",
    "\n",
    "modelo= modelo.fit(x_smote, y_smote)\n",
    "y_gorro= modelo.predict(test_X)"
   ]
  },
  {
   "cell_type": "code",
   "execution_count": 64,
   "metadata": {},
   "outputs": [
    {
     "name": "stdout",
     "output_type": "stream",
     "text": [
      "Accuracy: 0.2787216347867411 \n",
      "Precision: 0.28746631418323265 \n",
      "Recall: 0.2787216347867411\n"
     ]
    }
   ],
   "source": [
    "accuracy= accuracy_score(test_y, y_gorro)\n",
    "precison= precision_score(test_y, y_gorro, average= 'weighted')\n",
    "recall= recall_score(test_y, y_gorro, average= 'weighted')\n",
    "print(f'Accuracy: {accuracy} \\nPrecision: {precison} \\nRecall: {recall}')"
   ]
  },
  {
   "cell_type": "code",
   "execution_count": 65,
   "metadata": {},
   "outputs": [
    {
     "name": "stdout",
     "output_type": "stream",
     "text": [
      "{'max_depth': 15, 'min_samples_split': 3, 'n_estimators': 45}\n"
     ]
    }
   ],
   "source": [
    "model= RandomForestClassifier(criterion= 'gini',\n",
    "                              min_samples_leaf= 2,\n",
    "                              max_features= 'auto',\n",
    "                              bootstrap= True,\n",
    "                              oob_score= False,\n",
    "                              random_state= 0,\n",
    "                              verbose= 0)\n",
    "gs= GridSearchCV(model,\n",
    "                param_grid= {'max_depth': range(5, 20,5),\n",
    "                             'min_samples_split': range(1, 10, 2),\n",
    "                             'n_estimators': range(15, 50, 5)}, \n",
    "                  cv= 10,\n",
    "                  scoring= 'accuracy')\n",
    "gs.fit(x_smote, y_smote)\n",
    "print(gs.best_params_)"
   ]
  },
  {
   "cell_type": "code",
   "execution_count": 66,
   "metadata": {},
   "outputs": [
    {
     "data": {
      "text/plain": [
       "RandomForestClassifier(max_depth=15, min_samples_leaf=2, min_samples_split=3,\n",
       "                       n_estimators=45, random_state=0)"
      ]
     },
     "execution_count": 66,
     "metadata": {},
     "output_type": "execute_result"
    }
   ],
   "source": [
    "new_model= RandomForestClassifier(n_estimators= 45,\n",
    "                                  criterion= 'gini',\n",
    "                                  max_depth= 15,\n",
    "                                  min_samples_split= 3,\n",
    "                                  min_samples_leaf= 2,\n",
    "                                  max_features= 'auto',\n",
    "                                  bootstrap= True,\n",
    "                                  oob_score= False,\n",
    "                                  random_state= 0,\n",
    "                                  verbose= 0)\n",
    "new_model.fit(x_smote, y_smote)"
   ]
  },
  {
   "cell_type": "code",
   "execution_count": 67,
   "metadata": {},
   "outputs": [],
   "source": [
    "Yhat = new_model.predict(test_X)"
   ]
  },
  {
   "cell_type": "code",
   "execution_count": 68,
   "metadata": {},
   "outputs": [
    {
     "name": "stdout",
     "output_type": "stream",
     "text": [
      "Accuracy: 0.7587026256385886 \n",
      "Precision: 0.764817227484066 \n",
      "Recall: 0.7587026256385886\n"
     ]
    }
   ],
   "source": [
    "accuracy= accuracy_score(test_y, Yhat)\n",
    "precison= precision_score(test_y, np.round(Yhat), average= 'weighted')\n",
    "recall= recall_score(test_y, Yhat, average= 'weighted')\n",
    "print(f'Accuracy: {accuracy} \\nPrecision: {precison} \\nRecall: {recall}')"
   ]
  },
  {
   "cell_type": "markdown",
   "metadata": {},
   "source": [
    "---"
   ]
  },
  {
   "cell_type": "markdown",
   "metadata": {},
   "source": [
    "<font color= 'teal'> 4. **Discusión de los resultados**. </font>\n",
    "\n",
    "Basado en los resultados de la comparación y *performance* de los modelos, generar una sección de conclusiones donde se hable de las ventajas y desventajas de los modelos propuestos."
   ]
  },
  {
   "cell_type": "code",
   "execution_count": 69,
   "metadata": {},
   "outputs": [
    {
     "data": {
      "text/html": [
       "<div>\n",
       "<style scoped>\n",
       "    .dataframe tbody tr th:only-of-type {\n",
       "        vertical-align: middle;\n",
       "    }\n",
       "\n",
       "    .dataframe tbody tr th {\n",
       "        vertical-align: top;\n",
       "    }\n",
       "\n",
       "    .dataframe thead th {\n",
       "        text-align: right;\n",
       "    }\n",
       "</style>\n",
       "<table border=\"1\" class=\"dataframe\">\n",
       "  <thead>\n",
       "    <tr style=\"text-align: right;\">\n",
       "      <th></th>\n",
       "      <th>Modelo</th>\n",
       "      <th>Accuracy</th>\n",
       "    </tr>\n",
       "  </thead>\n",
       "  <tbody>\n",
       "    <tr>\n",
       "      <th>0</th>\n",
       "      <td>Logistic_Reg</td>\n",
       "      <td>0.271108</td>\n",
       "    </tr>\n",
       "    <tr>\n",
       "      <th>1</th>\n",
       "      <td>Decision_Tree</td>\n",
       "      <td>0.784840</td>\n",
       "    </tr>\n",
       "    <tr>\n",
       "      <th>2</th>\n",
       "      <td>Random_Forest</td>\n",
       "      <td>0.758703</td>\n",
       "    </tr>\n",
       "  </tbody>\n",
       "</table>\n",
       "</div>"
      ],
      "text/plain": [
       "          Modelo  Accuracy\n",
       "0   Logistic_Reg  0.271108\n",
       "1  Decision_Tree  0.784840\n",
       "2  Random_Forest  0.758703"
      ]
     },
     "execution_count": 69,
     "metadata": {},
     "output_type": "execute_result"
    }
   ],
   "source": [
    "comparar_cla= {'Modelo': ['Logistic_Reg', 'Decision_Tree', 'Random_Forest'],\n",
    "               'Accuracy': [accuracy_LR, score_DT, accuracy]}\n",
    "comparar_cla= pd.DataFrame(comparar_cla)\n",
    "comparar_cla"
   ]
  },
  {
   "cell_type": "markdown",
   "metadata": {},
   "source": [
    "Para medir el desempeño de los modelos se utilizó la métrica del *accuracy*, la cual representa la cantidad de observaciones predecidas correctamente por el modelo sobre el número total de observaciones. Dado que dicha métrica se busca maximizar, queda claro que el mejor modelo fue la x, seguido por x y finalmente la regresión logística.\n",
    "\n",
    "Debido a que la regresión logística no suele tener buenos resultados cuando se trabaja con relaciones de datos complejos, como es el caso de este conjunto de datos, se comprende el porqué de los malos resultados. Sin embargo, para modelar en primera instancia a los datos, es un proceso sencillo, rápido e interpretable.\n",
    "\n",
    "El árbol de decisión tuvo un buen desempeño pero tiene las desventajas de ser inestable debido a que las particiones se basan en un conjunto de datos y si se generaran cambios en dicho *dataset*, se producirían cambios importantes en la estructura del árbol y especialmente en su interpretabilidad. Además, tiene un rendimiento predictivo subóptimo ya que, generalmente, el modelo no converge al óptimo global.\n",
    "\n",
    "En cuanto al bosque aleatorio, es muy bueno generalizando y además se protege del sobreajuste debido a la construcción del *bootstrapping*. También, por ser un algoritmo muy estable, cuando hay datos nuevos no se ve muy afectado. No obstante, este modelo es mucho más complejo ya que crea muchos árboles de decisión y combina sus resultados obtenidos, por lo que requiere mucho poder computacional y un periodo largo de entrenamiento.\n",
    "___"
   ]
  },
  {
   "cell_type": "markdown",
   "metadata": {},
   "source": [
    "## <font color= 'darkblue'> Conclusión </font>"
   ]
  },
  {
   "cell_type": "markdown",
   "metadata": {},
   "source": [
    "A través del trabajo, se realizaron tres modelos distintos para cada problema; el de regresión y el de clasificación. En primer lugar, para el de regresión, los modelos generados tuvieron muy buenos resultados y no tardaron mucho tiempo en entrenarse. Incluso se comprobó si el modelo de bosque aleatorio se había sobreajustado por la métrica de $R^2$ que se obtuvo. Si bien se eligió el *mejor* modelo, eso puede ser subjetivo. Para seleccionar cuál modelo convendría más utilizar, se debería analizar específicamente lo que se busca lograr con dicho modelo y las restricciones que esto conlleva, ya que cada uno tiene sus ventajas y desventajas que afectan, tanto positiva como negativamente, su uso posterior.\n",
    "\n",
    "En segundo lugar, para el caso de clasificación, dos modelos basados en árboles tuvieron resultados aceptables y uno, la regresión logística, no se recomienda utilizar por su pésima métrica de *accuracy*. Tanto el árbol de decisión como el bosque aleatorio, a pesar de haber obtenido un desempeño alto, se podría mejorar. Por ello, para este tipo de problema se recomendaría fuertemente generar modelos distintos, como una `red neuronal` o un modelo `XGBoost`. No obstante, es una buena base para predicciones en el contexto del problema. \n",
    "\n",
    "Fue muy importante analizar cada conjunto de datos porque en la Ciencia de Datos no hay un instructivo el cual se deba seguir al pie de la letra, sino que se deben ir tomando decisiones que dependen de la materia prima con la que se trabaje. Conocer, por ejemplo, si los datos se deben escalar, si hay que rellenas nulos, si existen valores atípicos, si están imbalanceados, etc. se vuelve indispensable. Además, también es relevante conocer los requisitos de los modelos para saber si se ven afectados por los aspectos mencionados anteriormente, ya que esto puede modificar gravemente los resultados.\n",
    "\n",
    "Como se mencionó anteriormente, en un futuro se podrían seguir probando otros modelos para estos conjuntos de datos, e incluso incrementar el rango en la optimización de hiperparámetros para encontrar mejores resultados. También se podría utilizar como base este trabajo para otros conjuntos de datos tanto de regresión como de clasificación. En caso del aprendizaje no supervisado, será necesario crear modelos distintos, como el `K-Means` o el `Clustering Jerárquico`, ya que los problemas resueltos en este reporte pertenecen al aprendizaje supervisado y no se trabaja de la misma manera.\n",
    "\n",
    "De forma general, se considera que se cumplió el objetivo del trabajo, el cual era crear modelos para los problemas y comparar su desempeño. Fue enriquecedor analizar los resultados de los modelos realizados y notar las grandes diferencias que se presentan a pesar de trabajar con la misma información y bases de datos -relativamente- pequeñas."
   ]
  }
 ],
 "metadata": {
  "kernelspec": {
   "display_name": "Python 3",
   "language": "python",
   "name": "python3"
  },
  "language_info": {
   "codemirror_mode": {
    "name": "ipython",
    "version": 3
   },
   "file_extension": ".py",
   "mimetype": "text/x-python",
   "name": "python",
   "nbconvert_exporter": "python",
   "pygments_lexer": "ipython3",
   "version": "3.8.5"
  }
 },
 "nbformat": 4,
 "nbformat_minor": 4
}
